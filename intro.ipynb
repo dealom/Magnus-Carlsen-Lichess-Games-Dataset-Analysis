{
 "cells": [
  {
   "cell_type": "markdown",
   "metadata": {},
   "source": [
    "# Chess\n",
    "\n",
    "Lichess is a website where people can play chess online.\n",
    "\n",
    "An abstract strategy board game with two players. \n",
    "\n",
    "Appeared in the second half of the 15th century.\n",
    "\n",
    "Played on a 8x8 square chessboard.\n",
    "Each player controls 16 pieces (8 pawns, 2 knights, 2 bishops, 2 rooks, 1 king, 1 queen).\n",
    "\n",
    "<img src='BhiAmiQ.png' style='width:400px;height:400px'/>\n",
    "\n"
   ]
  },
  {
   "cell_type": "markdown",
   "metadata": {},
   "source": [
    "# Magnus Carlsen\n",
    "\n",
    "Has been the highest rated player since July 2011\n",
    "\n",
    "<img src='magnus.jpg' style='width:200px;height:300px'/>\n"
   ]
  },
  {
   "cell_type": "markdown",
   "metadata": {},
   "source": [
    "# Other Terms\n",
    "\n",
    "**Elo Rating System**: method used to calculate the relative skill level of players or teams in board games, sports, and esports. Created in 1960. \n",
    "\n",
    "I use \"elo\" and \"rating\" interchangably throughout my code and presentation.\n",
    "\n",
    "**Time Control**: time given to each player. Usually in the form 'x+y'  where players have x minutes and they gain y extra seconds after each move. \n",
    "\n",
    "A time control of '15+10' means each player has 15 minutes and gains 10 seconds after each move\n",
    "\n",
    "**Fractional Score**: Points scored out of games played. Wins are 1 point, draws are 0.5 points, losses are 0 points.\n",
    "\n",
    "A person with 10 draws out of 10 games would have a fractional score of 5/10.\n",
    "\n",
    "A person with 4 wins, 1 draw, 5 losses out of 10 games would have a fractional score of 4.5/10.\n"
   ]
  }
 ],
 "metadata": {
  "language_info": {
   "name": "python"
  },
  "orig_nbformat": 4
 },
 "nbformat": 4,
 "nbformat_minor": 2
}
