{
 "cells": [
  {
   "cell_type": "code",
   "execution_count": 31,
   "metadata": {},
   "outputs": [],
   "source": [
    "# Code used for Fractional Score Analysis\n",
    "import pandas as pd\n",
    "import numpy as np\n",
    "import matplotlib.pyplot as plt\n",
    "%store -r cg\n",
    "%store -r mg\n"
   ]
  },
  {
   "cell_type": "code",
   "execution_count": 32,
   "metadata": {},
   "outputs": [],
   "source": [
    "# Defining cg and mg to avoid dozens of 'variable is not defined' warnings\n",
    "cg = cg\n",
    "mg = mg\n"
   ]
  },
  {
   "cell_type": "code",
   "execution_count": 33,
   "metadata": {},
   "outputs": [
    {
     "data": {
      "text/html": [
       "<div>\n",
       "<style scoped>\n",
       "    .dataframe tbody tr th:only-of-type {\n",
       "        vertical-align: middle;\n",
       "    }\n",
       "\n",
       "    .dataframe tbody tr th {\n",
       "        vertical-align: top;\n",
       "    }\n",
       "\n",
       "    .dataframe thead th {\n",
       "        text-align: right;\n",
       "    }\n",
       "</style>\n",
       "<table border=\"1\" class=\"dataframe\">\n",
       "  <thead>\n",
       "    <tr style=\"text-align: right;\">\n",
       "      <th></th>\n",
       "      <th>game_id</th>\n",
       "      <th>game_order</th>\n",
       "      <th>event</th>\n",
       "      <th>white_title</th>\n",
       "      <th>white_rating_diff</th>\n",
       "      <th>white_elo</th>\n",
       "      <th>white</th>\n",
       "      <th>result</th>\n",
       "      <th>black</th>\n",
       "      <th>black_elo</th>\n",
       "      <th>...</th>\n",
       "      <th>eco</th>\n",
       "      <th>termination</th>\n",
       "      <th>time_control</th>\n",
       "      <th>datetime</th>\n",
       "      <th>variant</th>\n",
       "      <th>magnus_result</th>\n",
       "      <th>magnus_color</th>\n",
       "      <th>move_no_pair</th>\n",
       "      <th>player</th>\n",
       "      <th>notation</th>\n",
       "    </tr>\n",
       "  </thead>\n",
       "  <tbody>\n",
       "    <tr>\n",
       "      <th>0</th>\n",
       "      <td>298f0889-0249-4db0-ba19-f6483ec1e6de</td>\n",
       "      <td>105</td>\n",
       "      <td>Lichess Titled Arena</td>\n",
       "      <td>GM</td>\n",
       "      <td>58.0</td>\n",
       "      <td>2500</td>\n",
       "      <td>Magnus Carlsen</td>\n",
       "      <td>1-0</td>\n",
       "      <td>jsalomon</td>\n",
       "      <td>2532</td>\n",
       "      <td>...</td>\n",
       "      <td>E47</td>\n",
       "      <td>Normal</td>\n",
       "      <td>60+0</td>\n",
       "      <td>2017.12.14 21:00:02</td>\n",
       "      <td>Standard</td>\n",
       "      <td>lost</td>\n",
       "      <td>black</td>\n",
       "      <td>1</td>\n",
       "      <td>Magnus Carlsen</td>\n",
       "      <td>d4</td>\n",
       "    </tr>\n",
       "    <tr>\n",
       "      <th>1</th>\n",
       "      <td>52d5e7da-22b9-422f-b695-fec4be9bedb1</td>\n",
       "      <td>104</td>\n",
       "      <td>Lichess Titled Arena</td>\n",
       "      <td>IM</td>\n",
       "      <td>17.0</td>\n",
       "      <td>2420</td>\n",
       "      <td>Yoseph Taher</td>\n",
       "      <td>1-0</td>\n",
       "      <td>Magnus Carlsen</td>\n",
       "      <td>2558</td>\n",
       "      <td>...</td>\n",
       "      <td>B01</td>\n",
       "      <td>Time forfeit</td>\n",
       "      <td>60+0</td>\n",
       "      <td>2017.12.14 21:01:10</td>\n",
       "      <td>Standard</td>\n",
       "      <td>lost</td>\n",
       "      <td>black</td>\n",
       "      <td>1</td>\n",
       "      <td>Magnus Carlsen</td>\n",
       "      <td>d5</td>\n",
       "    </tr>\n",
       "    <tr>\n",
       "      <th>2</th>\n",
       "      <td>30157fb0-b75e-437c-a426-15de66858bae</td>\n",
       "      <td>103</td>\n",
       "      <td>Lichess Titled Arena</td>\n",
       "      <td>FM</td>\n",
       "      <td>-17.0</td>\n",
       "      <td>2754</td>\n",
       "      <td>gnejs</td>\n",
       "      <td>0-1</td>\n",
       "      <td>Magnus Carlsen</td>\n",
       "      <td>2493</td>\n",
       "      <td>...</td>\n",
       "      <td>B01</td>\n",
       "      <td>Normal</td>\n",
       "      <td>60+0</td>\n",
       "      <td>2017.12.14 21:04:13</td>\n",
       "      <td>Standard</td>\n",
       "      <td>lost</td>\n",
       "      <td>black</td>\n",
       "      <td>1</td>\n",
       "      <td>Magnus Carlsen</td>\n",
       "      <td>d5</td>\n",
       "    </tr>\n",
       "    <tr>\n",
       "      <th>3</th>\n",
       "      <td>93fa1904-8b3f-47cb-a3b3-effd45ef270a</td>\n",
       "      <td>102</td>\n",
       "      <td>Lichess Titled Arena</td>\n",
       "      <td>GM</td>\n",
       "      <td>61.0</td>\n",
       "      <td>2566</td>\n",
       "      <td>Magnus Carlsen</td>\n",
       "      <td>1-0</td>\n",
       "      <td>Toivo Keinänen</td>\n",
       "      <td>2755</td>\n",
       "      <td>...</td>\n",
       "      <td>A01</td>\n",
       "      <td>Normal</td>\n",
       "      <td>60+0</td>\n",
       "      <td>2017.12.14 21:06:30</td>\n",
       "      <td>Standard</td>\n",
       "      <td>lost</td>\n",
       "      <td>black</td>\n",
       "      <td>1</td>\n",
       "      <td>Magnus Carlsen</td>\n",
       "      <td>b3</td>\n",
       "    </tr>\n",
       "    <tr>\n",
       "      <th>4</th>\n",
       "      <td>5677b65e-8fa4-44a1-a64b-35067160a80c</td>\n",
       "      <td>101</td>\n",
       "      <td>Lichess Titled Arena</td>\n",
       "      <td>GM</td>\n",
       "      <td>9.0</td>\n",
       "      <td>2627</td>\n",
       "      <td>Magnus Carlsen</td>\n",
       "      <td>1-0</td>\n",
       "      <td>AusCub</td>\n",
       "      <td>2275</td>\n",
       "      <td>...</td>\n",
       "      <td>A01</td>\n",
       "      <td>Normal</td>\n",
       "      <td>60+0</td>\n",
       "      <td>2017.12.14 21:07:57</td>\n",
       "      <td>Standard</td>\n",
       "      <td>lost</td>\n",
       "      <td>black</td>\n",
       "      <td>1</td>\n",
       "      <td>Magnus Carlsen</td>\n",
       "      <td>b3</td>\n",
       "    </tr>\n",
       "  </tbody>\n",
       "</table>\n",
       "<p>5 rows × 23 columns</p>\n",
       "</div>"
      ],
      "text/plain": [
       "                                game_id  game_order                 event  \\\n",
       "0  298f0889-0249-4db0-ba19-f6483ec1e6de         105  Lichess Titled Arena   \n",
       "1  52d5e7da-22b9-422f-b695-fec4be9bedb1         104  Lichess Titled Arena   \n",
       "2  30157fb0-b75e-437c-a426-15de66858bae         103  Lichess Titled Arena   \n",
       "3  93fa1904-8b3f-47cb-a3b3-effd45ef270a         102  Lichess Titled Arena   \n",
       "4  5677b65e-8fa4-44a1-a64b-35067160a80c         101  Lichess Titled Arena   \n",
       "\n",
       "  white_title  white_rating_diff  white_elo           white result  \\\n",
       "0          GM               58.0       2500  Magnus Carlsen    1-0   \n",
       "1          IM               17.0       2420    Yoseph Taher    1-0   \n",
       "2          FM              -17.0       2754           gnejs    0-1   \n",
       "3          GM               61.0       2566  Magnus Carlsen    1-0   \n",
       "4          GM                9.0       2627  Magnus Carlsen    1-0   \n",
       "\n",
       "            black  black_elo  ...  eco   termination  time_control  \\\n",
       "0        jsalomon       2532  ...  E47        Normal          60+0   \n",
       "1  Magnus Carlsen       2558  ...  B01  Time forfeit          60+0   \n",
       "2  Magnus Carlsen       2493  ...  B01        Normal          60+0   \n",
       "3  Toivo Keinänen       2755  ...  A01        Normal          60+0   \n",
       "4          AusCub       2275  ...  A01        Normal          60+0   \n",
       "\n",
       "              datetime   variant magnus_result magnus_color move_no_pair  \\\n",
       "0  2017.12.14 21:00:02  Standard          lost        black            1   \n",
       "1  2017.12.14 21:01:10  Standard          lost        black            1   \n",
       "2  2017.12.14 21:04:13  Standard          lost        black            1   \n",
       "3  2017.12.14 21:06:30  Standard          lost        black            1   \n",
       "4  2017.12.14 21:07:57  Standard          lost        black            1   \n",
       "\n",
       "           player notation  \n",
       "0  Magnus Carlsen       d4  \n",
       "1  Magnus Carlsen       d5  \n",
       "2  Magnus Carlsen       d5  \n",
       "3  Magnus Carlsen       b3  \n",
       "4  Magnus Carlsen       b3  \n",
       "\n",
       "[5 rows x 23 columns]"
      ]
     },
     "execution_count": 33,
     "metadata": {},
     "output_type": "execute_result"
    }
   ],
   "source": [
    "cg.head()"
   ]
  },
  {
   "cell_type": "code",
   "execution_count": 34,
   "metadata": {},
   "outputs": [],
   "source": [
    "# Converts a number of wins, losses, and ties to a fractional score (fscore)\n",
    "def fscore(arr):\n",
    "    return (arr[0] + arr[2]*0.5)/sum(arr)\n",
    "\n",
    "# Used to shorten my code and reduce a lot of character repitition, vc short for value counts\n",
    "def vc(df,cond):\n",
    "    return df[cond].magnus_result.value_counts()\n",
    "\n",
    "def vco(df): # vco short for value counts overall\n",
    "    return df.magnus_result.value_counts()\n"
   ]
  },
  {
   "cell_type": "code",
   "execution_count": 35,
   "metadata": {},
   "outputs": [
    {
     "data": {
      "image/png": "[encoded data removed]",
      "text/plain": [
       "<Figure size 432x288 with 1 Axes>"
      ]
     },
     "metadata": {
      "needs_background": "light"
     },
     "output_type": "display_data"
    }
   ],
   "source": [
    "# Significant 5% difference between black and white\n",
    "x = ['Overall','White','Black']\n",
    "y = [fscore(vco(cg)),fscore(vc(cg,cg.white=='Magnus Carlsen')),fscore(vc(cg,cg.black=='Magnus Carlsen'))]\n",
    "plt.bar(x,y)\n",
    "plt.title('Fractional Score by Color')\n",
    "plt.xlabel('Color')\n",
    "plt.ylabel('Percentage')\n",
    "for index, value in enumerate(y):\n",
    "    plt.text(index, value,\n",
    "             str(round(value,3)))\n",
    "plt.show()"
   ]
  },
  {
   "cell_type": "code",
   "execution_count": 36,
   "metadata": {},
   "outputs": [
    {
     "data": {
      "text/plain": [
       "False    12106\n",
       "True      1320\n",
       "Name: datetime, dtype: int64"
      ]
     },
     "execution_count": 36,
     "metadata": {},
     "output_type": "execute_result"
    }
   ],
   "source": [
    "test = cg.datetime.str[0:4]=='2018'\n",
    "test.value_counts()"
   ]
  },
  {
   "cell_type": "code",
   "execution_count": 37,
   "metadata": {},
   "outputs": [
    {
     "data": {
      "image/png": "[encoded data removed]",
      "text/plain": [
       "<Figure size 432x288 with 1 Axes>"
      ]
     },
     "metadata": {
      "needs_background": "light"
     },
     "output_type": "display_data"
    }
   ],
   "source": [
    "x = ['Overall','2018','2019','2020','2021']\n",
    "y = [fscore(vco(cg)),fscore(vc(cg,cg.datetime.str[0:4]=='2018')),fscore(vc(cg,cg.datetime.str[0:4]=='2019')),fscore(vc(cg,cg.datetime.str[0:4]=='2020')),fscore(vc(cg,cg.datetime.str[0:4]=='2021'))]\n",
    "plt.bar(x,y)\n",
    "plt.title('Fractional Score by Year')\n",
    "plt.xlabel('Year')\n",
    "plt.ylabel('Percentage')\n",
    "for index, value in enumerate(y):\n",
    "    plt.text(index, value,\n",
    "             str(round(value,3)))\n",
    "plt.show()"
   ]
  },
  {
   "cell_type": "code",
   "execution_count": 38,
   "metadata": {},
   "outputs": [
    {
     "data": {
      "image/png": "[encoded data removed]",
      "text/plain": [
       "<Figure size 432x288 with 1 Axes>"
      ]
     },
     "metadata": {
      "needs_background": "light"
     },
     "output_type": "display_data"
    }
   ],
   "source": [
    "# 85% of games are 60+0, 6% of games are 180+0 and other time controls are even lower, \n",
    "x = ['Overall','60+0','Not 60+0']\n",
    "y = [fscore(vco(cg)),fscore(vc(cg,cg.time_control=='60+0')),fscore(vc(cg,cg.time_control!='60+0'))]\n",
    "plt.bar(x,y)\n",
    "plt.title('Fractional Score by Time Control')\n",
    "plt.xlabel('Time Control')\n",
    "plt.ylabel('Percentage')\n",
    "for index, value in enumerate(y):\n",
    "    plt.text(index, value,\n",
    "             str(round(value,3)))\n",
    "plt.show()"
   ]
  },
  {
   "cell_type": "code",
   "execution_count": 39,
   "metadata": {},
   "outputs": [
    {
     "data": {
      "image/png": "[encoded data removed]",
      "text/plain": [
       "<Figure size 432x288 with 1 Axes>"
      ]
     },
     "metadata": {
      "needs_background": "light"
     },
     "output_type": "display_data"
    }
   ],
   "source": [
    "# I think first move might be better but this is a test\n",
    "x = ['Overall','A00','B01','B06','A04','A01']\n",
    "y = [fscore(vco(cg)),fscore(cg[cg.eco=='A00'].magnus_result.value_counts()),fscore(cg[cg.eco=='B01'].magnus_result.value_counts()),fscore(cg[cg.eco=='B06'].magnus_result.value_counts()),fscore(cg[cg.eco=='A04'].magnus_result.value_counts()),fscore(cg[cg.eco=='A01'].magnus_result.value_counts())]\n",
    "plt.bar(x,y)\n",
    "plt.title('Fractional Score by Opening')\n",
    "plt.xlabel('Opening ECO Code')\n",
    "plt.ylabel('Percentage')\n",
    "for index, value in enumerate(y):\n",
    "    plt.text(index, value,\n",
    "             str(round(value,3)))\n",
    "plt.show()"
   ]
  },
  {
   "cell_type": "code",
   "execution_count": 40,
   "metadata": {},
   "outputs": [
    {
     "data": {
      "text/plain": [
       "e4       2847\n",
       "d4       1878\n",
       "d5       1576\n",
       "Nf6      1371\n",
       "c5       1004\n",
       "g6        798\n",
       "c4        708\n",
       "e5        578\n",
       "Nf3       475\n",
       "c6        291\n",
       "g3        287\n",
       "e6        260\n",
       "d6        250\n",
       "b3        185\n",
       "h5        132\n",
       "f5        122\n",
       "b6        106\n",
       "e3         63\n",
       "Nc3        50\n",
       "d3         41\n",
       "h4         39\n",
       "Nc6        39\n",
       "f6         38\n",
       "g5         37\n",
       "c3         33\n",
       "g4         33\n",
       "f3         32\n",
       "a5         30\n",
       "f4         25\n",
       "h6         17\n",
       "b5         16\n",
       "b4         11\n",
       "a4         10\n",
       "a6          7\n",
       "Na6         6\n",
       "Nh6         5\n",
       "a3          5\n",
       "Nb6         5\n",
       "Bb3         2\n",
       "Ng6         2\n",
       "Ng3         2\n",
       "h3          2\n",
       "Qxf7        2\n",
       "Bxf7+       1\n",
       "Ngf6        1\n",
       "Bc4         1\n",
       "Rf8         1\n",
       "O-O         1\n",
       "Nb3         1\n",
       "Name: notation, dtype: int64"
      ]
     },
     "execution_count": 40,
     "metadata": {},
     "output_type": "execute_result"
    }
   ],
   "source": [
    "# e4, d4, d5, Nf6, c5, g6, c4 all have at least 5% frequency (700+ samples) so I'll be grpahing them\n",
    "cg.notation.value_counts()"
   ]
  },
  {
   "cell_type": "code",
   "execution_count": 41,
   "metadata": {},
   "outputs": [
    {
     "data": {
      "image/png": "[encoded data removed]",
      "text/plain": [
       "<Figure size 432x288 with 1 Axes>"
      ]
     },
     "metadata": {
      "needs_background": "light"
     },
     "output_type": "display_data"
    }
   ],
   "source": [
    "# e4, d4, d5, Nf6, c5, g6, c4 all have at least 5% frequency (700+ samples) so I'll be grpahing them\n",
    "x = ['Overall','e4','d4','d5','Nf6','c5','g6','c4']\n",
    "y = [fscore(vco(cg)),fscore(vc(cg,cg.notation=='e4')),\n",
    "    fscore(vc(cg,cg.notation=='d4')), fscore(vc(cg,cg.notation=='d5')),\n",
    "    fscore(vc(cg,cg.notation=='Nf6')), fscore(vc(cg,cg.notation=='c5')),\n",
    "    fscore(vc(cg,cg.notation=='g6')), fscore(vc(cg,cg.notation=='c4'))]\n",
    "plt.bar(x,y)\n",
    "plt.title('Fractional Score by Magnus\\'s First Move')\n",
    "plt.xlabel('First Move')\n",
    "plt.ylabel('Percentage')\n",
    "for index, value in enumerate(y):\n",
    "    plt.text(index-0.25, value,\n",
    "             str(round(value,3)))\n",
    "plt.show()\n",
    "# The disparity is mostly due to white winning more, i should seperate by color\n",
    "# e4 d4 c4 Nf3 for white\n",
    "# d5 Nf6 c5 g6 for black"
   ]
  },
  {
   "cell_type": "code",
   "execution_count": 45,
   "metadata": {},
   "outputs": [
    {
     "data": {
      "image/png": "[encoded data removed]",
      "text/plain": [
       "<Figure size 432x288 with 1 Axes>"
      ]
     },
     "metadata": {
      "needs_background": "light"
     },
     "output_type": "display_data"
    }
   ],
   "source": [
    "x = ['Overall','e4','d4','c4','Nf3']\n",
    "y = [fscore(vc(cg,cg.magnus_color=='white')),fscore(vc(cg,cg.notation=='e4')),\n",
    "    fscore(vc(cg,cg.notation=='d4')),fscore(vc(cg,cg.notation=='c4')),fscore(vc(cg,cg.notation=='Nf3'))]\n",
    "plt.bar(x,y)\n",
    "plt.title('Fractional Score by Magnus\\'s First Move as White')\n",
    "plt.xlabel('First Move')\n",
    "plt.ylabel('Percentage')\n",
    "for index, value in enumerate(y):\n",
    "    plt.text(index-0.25, value,\n",
    "             str(round(value,3)))\n",
    "plt.show()"
   ]
  },
  {
   "cell_type": "code",
   "execution_count": 46,
   "metadata": {},
   "outputs": [
    {
     "data": {
      "image/png": "[encoded data removed]",
      "text/plain": [
       "<Figure size 432x288 with 1 Axes>"
      ]
     },
     "metadata": {
      "needs_background": "light"
     },
     "output_type": "display_data"
    }
   ],
   "source": [
    "x = ['Overall','d5','Nf6','c5','g6']\n",
    "y = [fscore(vc(cg,cg.magnus_color=='black')), fscore(vc(cg,cg.notation=='d5')),\n",
    "    fscore(vc(cg,cg.notation=='Nf6')), fscore(vc(cg,cg.notation=='c5')), fscore(vc(cg,cg.notation=='g6'))]\n",
    "plt.bar(x,y)\n",
    "plt.title('Fractional Score by Magnus\\'s First Move as Black')\n",
    "plt.xlabel('First Move')\n",
    "plt.ylabel('Percentage')\n",
    "for index, value in enumerate(y):\n",
    "    plt.text(index-0.25, value,\n",
    "             str(round(value,3)))\n",
    "plt.show()"
   ]
  },
  {
   "cell_type": "code",
   "execution_count": 42,
   "metadata": {},
   "outputs": [
    {
     "data": {
      "image/png": "[encoded data removed]",
      "text/plain": [
       "<Figure size 432x288 with 1 Axes>"
      ]
     },
     "metadata": {
      "needs_background": "light"
     },
     "output_type": "display_data"
    }
   ],
   "source": [
    "# Each bin has 1600+ games so I'm using these bins.\n",
    "# x = ['<2700','2700-2800','2800-2900','2900-3000','3000-3100','3100<']\n",
    "# y = [2141, 1612, 2202, 2488, 3201, 1798]\n",
    "\n",
    "x = ['Overall','<2700','2700s','2800s','2900s','3000s','3100<'] # Less characters\n",
    "y = [fscore(vco(cg)),fscore(vc(mg,mg.opp_elo<2700)),fscore(vc(mg,(mg.opp_elo<2800) &(mg.opp_elo>=2700))),fscore(vc(mg,(mg.opp_elo<2900) &(mg.opp_elo>=2800))),fscore(vc(mg,(mg.opp_elo<3000) &(mg.opp_elo>=2900))),fscore(vc(mg,(mg.opp_elo<3100) &(mg.opp_elo>=3000))),fscore(vc(mg,mg.opp_elo>=3100))]\n",
    "plt.bar(x,y)\n",
    "plt.title('Fractional Score by Opponent Rating')\n",
    "plt.xlabel('Opponent Rating')\n",
    "plt.ylabel('Percentage')\n",
    "for index, value in enumerate(y):\n",
    "    plt.text(index, value,\n",
    "             str(round(value,3)))\n",
    "plt.show()"
   ]
  },
  {
   "cell_type": "code",
   "execution_count": null,
   "metadata": {},
   "outputs": [],
   "source": []
  },
  {
   "cell_type": "code",
   "execution_count": 47,
   "metadata": {},
   "outputs": [
    {
     "data": {
      "image/png": "[encoded data removed]",
      "text/plain": [
       "<Figure size 432x288 with 2 Axes>"
      ]
     },
     "metadata": {
      "needs_background": "light"
     },
     "output_type": "display_data"
    }
   ],
   "source": [
    "from io import StringIO\n",
    "\n",
    "s = StringIO(\"\"\"     amount     price\n",
    "A     40929   4066443\n",
    "B     93904   9611272\n",
    "C    188349  19360005\n",
    "D    248438  24335536\n",
    "E    205622  18888604\n",
    "F    140173  12580900\n",
    "G     76243   6751731\n",
    "H     36859   3418329\n",
    "I     29304   2758928\n",
    "J     39768   3201269\n",
    "K     30350   2867059\"\"\")\n",
    "\n",
    "df = pd.read_csv(s, index_col=0, delimiter=' ', skipinitialspace=True)\n",
    "\n",
    "fig = plt.figure() # Create matplotlib figure\n",
    "\n",
    "ax = fig.add_subplot(111) # Create matplotlib axes\n",
    "ax2 = ax.twinx() # Create another axes that shares the same x-axis as ax.\n",
    "\n",
    "width = 0.4\n",
    "\n",
    "df.amount.plot(kind='bar', color='red', ax=ax, width=width, position=1)\n",
    "df.price.plot(kind='bar', color='blue', ax=ax2, width=width, position=0)\n",
    "\n",
    "ax.set_ylabel('Amount')\n",
    "ax2.set_ylabel('Price')\n",
    "\n",
    "plt.show()"
   ]
  },
  {
   "cell_type": "code",
   "execution_count": 131,
   "metadata": {},
   "outputs": [
    {
     "data": {
      "image/png": "[encoded data removed]",
      "text/plain": [
       "<Figure size 432x288 with 2 Axes>"
      ]
     },
     "metadata": {
      "needs_background": "light"
     },
     "output_type": "display_data"
    }
   ],
   "source": [
    "\n",
    "x = ['Overall','<2700','2700s','2800s','2900s','3000s','3100<'] # Less characters\n",
    "y = [fscore(vco(cg)),fscore(vc(mg,mg.opp_elo<2700)),fscore(vc(mg,(mg.opp_elo<2800) &(mg.opp_elo>=2700))),fscore(vc(mg,(mg.opp_elo<2900) &(mg.opp_elo>=2800))),fscore(vc(mg,(mg.opp_elo<3000) &(mg.opp_elo>=2900))),fscore(vc(mg,(mg.opp_elo<3100) &(mg.opp_elo>=3000))),fscore(vc(mg,mg.opp_elo>=3100))]\n",
    "z = [np.mean(mg.opp_elo), np.mean(mg[mg.opp_elo<2700].opp_elo),\n",
    "    np.mean(mg[(mg.opp_elo<2800) &(mg.opp_elo>=2700)].opp_elo),\n",
    "    np.mean(mg[(mg.opp_elo<2900) &(mg.opp_elo>=2800)].opp_elo),\n",
    "    np.mean(mg[(mg.opp_elo<3000) &(mg.opp_elo>=2900)].opp_elo),\n",
    "    np.mean(mg[(mg.opp_elo<3100) &(mg.opp_elo>=3000)].opp_elo),\n",
    "    np.mean(mg[mg.opp_elo>3100].opp_elo)]\n",
    "xyz = pd.DataFrame(data=[x,y,z]).T\n",
    "xyz = xyz.set_index(0)\n",
    "xyz = xyz.set_axis(['fscore','opp_rating'],axis=1)\n",
    "fig = plt.figure() # Create matplotlib figure\n",
    "\n",
    "ax = fig.add_subplot(111) # Create matplotlib axes\n",
    "ax2 = ax.twinx() # Create another axes that shares the same x-axis as ax.\n",
    "\n",
    "width = 0.4\n",
    "plt.title('hello')\n",
    "xyz.fscore.plot(kind='bar', color='red', ax=ax, width=width, position=1)\n",
    "xyz.opp_rating.plot(kind='bar', color='blue', ax=ax2, width=width, position=0)\n",
    "#ax.get_children()[0].set(alpha=0.5)\n",
    "ax.get_children()[0].set_color('purple')\n",
    "ax.set_xlabel('Opponent Rating Range')\n",
    "ax.set_ylabel('Fractional Score')\n",
    "ax2.set_ylabel('Average Opponent Elo')\n",
    "ax.legend([ax.get_children()[1]],['fscore'],bbox_to_anchor=(1.1, 1.0),loc='upper left')\n",
    "ax2.legend(bbox_to_anchor=(1.1, 0.9),loc='upper left')\n",
    "#plt.legend([ax.get_children()[0]],('fscore'))\n",
    "plt.show()"
   ]
  },
  {
   "cell_type": "code",
   "execution_count": 119,
   "metadata": {},
   "outputs": [
    {
     "data": {
      "text/plain": [
       "[None]"
      ]
     },
     "execution_count": 119,
     "metadata": {},
     "output_type": "execute_result"
    }
   ],
   "source": [
    "ax.get_children()[0].set(alpha=0.7)"
   ]
  },
  {
   "cell_type": "code",
   "execution_count": 109,
   "metadata": {},
   "outputs": [
    {
     "data": {
      "text/plain": [
       "0.7192760315805155"
      ]
     },
     "execution_count": 109,
     "metadata": {},
     "output_type": "execute_result"
    }
   ],
   "source": [
    "xyz.fscore[0]"
   ]
  },
  {
   "cell_type": "code",
   "execution_count": 88,
   "metadata": {},
   "outputs": [
    {
     "data": {
      "text/html": [
       "<div>\n",
       "<style scoped>\n",
       "    .dataframe tbody tr th:only-of-type {\n",
       "        vertical-align: middle;\n",
       "    }\n",
       "\n",
       "    .dataframe tbody tr th {\n",
       "        vertical-align: top;\n",
       "    }\n",
       "\n",
       "    .dataframe thead th {\n",
       "        text-align: right;\n",
       "    }\n",
       "</style>\n",
       "<table border=\"1\" class=\"dataframe\">\n",
       "  <thead>\n",
       "    <tr style=\"text-align: right;\">\n",
       "      <th></th>\n",
       "      <th>fscore</th>\n",
       "      <th>opp_rating</th>\n",
       "    </tr>\n",
       "    <tr>\n",
       "      <th>0</th>\n",
       "      <th></th>\n",
       "      <th></th>\n",
       "    </tr>\n",
       "  </thead>\n",
       "  <tbody>\n",
       "    <tr>\n",
       "      <th>Overall</th>\n",
       "      <td>0.719276</td>\n",
       "      <td>2867.648145</td>\n",
       "    </tr>\n",
       "    <tr>\n",
       "      <th>&lt;2700</th>\n",
       "      <td>0.829577</td>\n",
       "      <td>2362.688263</td>\n",
       "    </tr>\n",
       "    <tr>\n",
       "      <th>2700s</th>\n",
       "      <td>0.701117</td>\n",
       "      <td>2755.106145</td>\n",
       "    </tr>\n",
       "    <tr>\n",
       "      <th>2800s</th>\n",
       "      <td>0.729195</td>\n",
       "      <td>2852.80673</td>\n",
       "    </tr>\n",
       "    <tr>\n",
       "      <th>2900s</th>\n",
       "      <td>0.73533</td>\n",
       "      <td>2952.378617</td>\n",
       "    </tr>\n",
       "    <tr>\n",
       "      <th>3000s</th>\n",
       "      <td>0.680256</td>\n",
       "      <td>3046.130897</td>\n",
       "    </tr>\n",
       "    <tr>\n",
       "      <th>3100&lt;</th>\n",
       "      <td>0.639955</td>\n",
       "      <td>3150.612394</td>\n",
       "    </tr>\n",
       "  </tbody>\n",
       "</table>\n",
       "</div>"
      ],
      "text/plain": [
       "           fscore   opp_rating\n",
       "0                             \n",
       "Overall  0.719276  2867.648145\n",
       "<2700    0.829577  2362.688263\n",
       "2700s    0.701117  2755.106145\n",
       "2800s    0.729195   2852.80673\n",
       "2900s     0.73533  2952.378617\n",
       "3000s    0.680256  3046.130897\n",
       "3100<    0.639955  3150.612394"
      ]
     },
     "execution_count": 88,
     "metadata": {},
     "output_type": "execute_result"
    }
   ],
   "source": [
    "x = ['Overall','<2700','2700s','2800s','2900s','3000s','3100<'] # Less characters\n",
    "y = [fscore(vco(cg)),fscore(vc(mg,mg.opp_elo<2700)),fscore(vc(mg,(mg.opp_elo<2800) &(mg.opp_elo>=2700))),fscore(vc(mg,(mg.opp_elo<2900) &(mg.opp_elo>=2800))),fscore(vc(mg,(mg.opp_elo<3000) &(mg.opp_elo>=2900))),fscore(vc(mg,(mg.opp_elo<3100) &(mg.opp_elo>=3000))),fscore(vc(mg,mg.opp_elo>=3100))]\n",
    "z = [np.mean(mg.opp_elo), np.mean(mg[mg.opp_elo<2700].opp_elo),\n",
    "    np.mean(mg[(mg.opp_elo<2800) &(mg.opp_elo>=2700)].opp_elo),\n",
    "    np.mean(mg[(mg.opp_elo<2900) &(mg.opp_elo>=2800)].opp_elo),\n",
    "    np.mean(mg[(mg.opp_elo<3000) &(mg.opp_elo>=2900)].opp_elo),\n",
    "    np.mean(mg[(mg.opp_elo<3100) &(mg.opp_elo>=3000)].opp_elo),\n",
    "    np.mean(mg[mg.opp_elo>3100].opp_elo)]\n",
    "xyz = pd.DataFrame(data=[x,y,z]).T\n",
    "xyz = xyz.set_index(0)\n",
    "xyz = xyz.set_axis(['fscore','opp_rating'],axis=1)\n",
    "xyz"
   ]
  },
  {
   "cell_type": "code",
   "execution_count": 89,
   "metadata": {},
   "outputs": [
    {
     "data": {
      "text/plain": [
       "Index(['fscore', 'opp_rating'], dtype='object')"
      ]
     },
     "execution_count": 89,
     "metadata": {},
     "output_type": "execute_result"
    }
   ],
   "source": [
    "xyz.columns"
   ]
  }
 ],
 "metadata": {
  "interpreter": {
   "hash": "ab2e56e5a4f24cad0c49aa93a4628968ee20258e7f82f5186e5fd37b3b8c369f"
  },
  "kernelspec": {
   "display_name": "Python 3.9.7 64-bit",
   "language": "python",
   "name": "python3"
  },
  "language_info": {
   "codemirror_mode": {
    "name": "ipython",
    "version": 3
   },
   "file_extension": ".py",
   "mimetype": "text/x-python",
   "name": "python",
   "nbconvert_exporter": "python",
   "pygments_lexer": "ipython3",
   "version": "3.9.7"
  },
  "orig_nbformat": 4
 },
 "nbformat": 4,
 "nbformat_minor": 2
}
