{
 "cells": [
  {
   "cell_type": "code",
   "execution_count": 59,
   "metadata": {},
   "outputs": [],
   "source": [
    "# Code used for Win Rate Analysis\n",
    "import pandas as pd\n",
    "import numpy as np\n",
    "import matplotlib.pyplot as plt\n",
    "%store -r cg\n",
    "%store -r magoppres"
   ]
  },
  {
   "cell_type": "code",
   "execution_count": 8,
   "metadata": {},
   "outputs": [],
   "source": [
    "cg = cg # Defining cg \n",
    "magoppres = magoppres"
   ]
  },
  {
   "cell_type": "code",
   "execution_count": 10,
   "metadata": {},
   "outputs": [
    {
     "data": {
      "text/html": [
       "<div>\n",
       "<style scoped>\n",
       "    .dataframe tbody tr th:only-of-type {\n",
       "        vertical-align: middle;\n",
       "    }\n",
       "\n",
       "    .dataframe tbody tr th {\n",
       "        vertical-align: top;\n",
       "    }\n",
       "\n",
       "    .dataframe thead th {\n",
       "        text-align: right;\n",
       "    }\n",
       "</style>\n",
       "<table border=\"1\" class=\"dataframe\">\n",
       "  <thead>\n",
       "    <tr style=\"text-align: right;\">\n",
       "      <th></th>\n",
       "      <th>game_order</th>\n",
       "      <th>event</th>\n",
       "      <th>site</th>\n",
       "      <th>white_title</th>\n",
       "      <th>white_rating_diff</th>\n",
       "      <th>white_elo</th>\n",
       "      <th>white</th>\n",
       "      <th>result</th>\n",
       "      <th>black</th>\n",
       "      <th>black_elo</th>\n",
       "      <th>black_rating_diff</th>\n",
       "      <th>black_title</th>\n",
       "      <th>winner_loser_elo_diff</th>\n",
       "      <th>eco</th>\n",
       "      <th>termination</th>\n",
       "      <th>time_control</th>\n",
       "      <th>utc_date</th>\n",
       "      <th>utc_time</th>\n",
       "      <th>variant</th>\n",
       "      <th>magnus_result</th>\n",
       "    </tr>\n",
       "  </thead>\n",
       "  <tbody>\n",
       "    <tr>\n",
       "      <th>0</th>\n",
       "      <td>105</td>\n",
       "      <td>Lichess Titled Arena</td>\n",
       "      <td>https://lichess.org/KEvLWfdH</td>\n",
       "      <td>GM</td>\n",
       "      <td>58.0</td>\n",
       "      <td>2500</td>\n",
       "      <td>Magnus Carlsen</td>\n",
       "      <td>1-0</td>\n",
       "      <td>jsalomon</td>\n",
       "      <td>2532</td>\n",
       "      <td>-13.0</td>\n",
       "      <td>GM</td>\n",
       "      <td>-32</td>\n",
       "      <td>E47</td>\n",
       "      <td>Normal</td>\n",
       "      <td>60+0</td>\n",
       "      <td>2017.12.14</td>\n",
       "      <td>21:00:02</td>\n",
       "      <td>Standard</td>\n",
       "      <td>lost</td>\n",
       "    </tr>\n",
       "    <tr>\n",
       "      <th>1</th>\n",
       "      <td>104</td>\n",
       "      <td>Lichess Titled Arena</td>\n",
       "      <td>https://lichess.org/9YoOXtxp</td>\n",
       "      <td>IM</td>\n",
       "      <td>17.0</td>\n",
       "      <td>2420</td>\n",
       "      <td>Yoseph Taher</td>\n",
       "      <td>1-0</td>\n",
       "      <td>Magnus Carlsen</td>\n",
       "      <td>2558</td>\n",
       "      <td>-65.0</td>\n",
       "      <td>GM</td>\n",
       "      <td>-138</td>\n",
       "      <td>B01</td>\n",
       "      <td>Time forfeit</td>\n",
       "      <td>60+0</td>\n",
       "      <td>2017.12.14</td>\n",
       "      <td>21:01:10</td>\n",
       "      <td>Standard</td>\n",
       "      <td>lost</td>\n",
       "    </tr>\n",
       "    <tr>\n",
       "      <th>2</th>\n",
       "      <td>103</td>\n",
       "      <td>Lichess Titled Arena</td>\n",
       "      <td>https://lichess.org/yh0IxjPf</td>\n",
       "      <td>FM</td>\n",
       "      <td>-17.0</td>\n",
       "      <td>2754</td>\n",
       "      <td>gnejs</td>\n",
       "      <td>0-1</td>\n",
       "      <td>Magnus Carlsen</td>\n",
       "      <td>2493</td>\n",
       "      <td>73.0</td>\n",
       "      <td>GM</td>\n",
       "      <td>-261</td>\n",
       "      <td>B01</td>\n",
       "      <td>Normal</td>\n",
       "      <td>60+0</td>\n",
       "      <td>2017.12.14</td>\n",
       "      <td>21:04:13</td>\n",
       "      <td>Standard</td>\n",
       "      <td>lost</td>\n",
       "    </tr>\n",
       "    <tr>\n",
       "      <th>3</th>\n",
       "      <td>102</td>\n",
       "      <td>Lichess Titled Arena</td>\n",
       "      <td>https://lichess.org/qcHWzltq</td>\n",
       "      <td>GM</td>\n",
       "      <td>61.0</td>\n",
       "      <td>2566</td>\n",
       "      <td>Magnus Carlsen</td>\n",
       "      <td>1-0</td>\n",
       "      <td>Toivo Keinänen</td>\n",
       "      <td>2755</td>\n",
       "      <td>-16.0</td>\n",
       "      <td>IM</td>\n",
       "      <td>-189</td>\n",
       "      <td>A01</td>\n",
       "      <td>Normal</td>\n",
       "      <td>60+0</td>\n",
       "      <td>2017.12.14</td>\n",
       "      <td>21:06:30</td>\n",
       "      <td>Standard</td>\n",
       "      <td>lost</td>\n",
       "    </tr>\n",
       "    <tr>\n",
       "      <th>4</th>\n",
       "      <td>101</td>\n",
       "      <td>Lichess Titled Arena</td>\n",
       "      <td>https://lichess.org/HhV5RN5e</td>\n",
       "      <td>GM</td>\n",
       "      <td>9.0</td>\n",
       "      <td>2627</td>\n",
       "      <td>Magnus Carlsen</td>\n",
       "      <td>1-0</td>\n",
       "      <td>AusCub</td>\n",
       "      <td>2275</td>\n",
       "      <td>-4.0</td>\n",
       "      <td>NM</td>\n",
       "      <td>352</td>\n",
       "      <td>A01</td>\n",
       "      <td>Normal</td>\n",
       "      <td>60+0</td>\n",
       "      <td>2017.12.14</td>\n",
       "      <td>21:07:57</td>\n",
       "      <td>Standard</td>\n",
       "      <td>lost</td>\n",
       "    </tr>\n",
       "  </tbody>\n",
       "</table>\n",
       "</div>"
      ],
      "text/plain": [
       "   game_order                 event                          site white_title  \\\n",
       "0         105  Lichess Titled Arena  https://lichess.org/KEvLWfdH          GM   \n",
       "1         104  Lichess Titled Arena  https://lichess.org/9YoOXtxp          IM   \n",
       "2         103  Lichess Titled Arena  https://lichess.org/yh0IxjPf          FM   \n",
       "3         102  Lichess Titled Arena  https://lichess.org/qcHWzltq          GM   \n",
       "4         101  Lichess Titled Arena  https://lichess.org/HhV5RN5e          GM   \n",
       "\n",
       "   white_rating_diff  white_elo           white result           black  \\\n",
       "0               58.0       2500  Magnus Carlsen    1-0        jsalomon   \n",
       "1               17.0       2420    Yoseph Taher    1-0  Magnus Carlsen   \n",
       "2              -17.0       2754           gnejs    0-1  Magnus Carlsen   \n",
       "3               61.0       2566  Magnus Carlsen    1-0  Toivo Keinänen   \n",
       "4                9.0       2627  Magnus Carlsen    1-0          AusCub   \n",
       "\n",
       "   black_elo  black_rating_diff black_title  winner_loser_elo_diff  eco  \\\n",
       "0       2532              -13.0          GM                    -32  E47   \n",
       "1       2558              -65.0          GM                   -138  B01   \n",
       "2       2493               73.0          GM                   -261  B01   \n",
       "3       2755              -16.0          IM                   -189  A01   \n",
       "4       2275               -4.0          NM                    352  A01   \n",
       "\n",
       "    termination time_control    utc_date  utc_time   variant magnus_result  \n",
       "0        Normal         60+0  2017.12.14  21:00:02  Standard          lost  \n",
       "1  Time forfeit         60+0  2017.12.14  21:01:10  Standard          lost  \n",
       "2        Normal         60+0  2017.12.14  21:04:13  Standard          lost  \n",
       "3        Normal         60+0  2017.12.14  21:06:30  Standard          lost  \n",
       "4        Normal         60+0  2017.12.14  21:07:57  Standard          lost  "
      ]
     },
     "execution_count": 10,
     "metadata": {},
     "output_type": "execute_result"
    }
   ],
   "source": [
    "cg.head()"
   ]
  },
  {
   "cell_type": "code",
   "execution_count": 3,
   "metadata": {},
   "outputs": [
    {
     "data": {
      "text/plain": [
       "(array([2141., 1612., 2202., 2488., 3201., 1798.]),\n",
       " array([   0, 2700, 2800, 2900, 3000, 3100, 3300]),\n",
       " <BarContainer object of 6 artists>)"
      ]
     },
     "execution_count": 3,
     "metadata": {},
     "output_type": "execute_result"
    },
    {
     "data": {
      "image/png": "[encoded data removed]",
      "text/plain": [
       "<Figure size 432x288 with 1 Axes>"
      ]
     },
     "metadata": {
      "needs_background": "light"
     },
     "output_type": "display_data"
    }
   ],
   "source": [
    "#Each bin has over 1600 games so I decide to split the data like this\n",
    "plt.hist(magoppres.opp_elo,bins=[0,2700,2800,2900,3000,3100,3300])"
   ]
  },
  {
   "cell_type": "code",
   "execution_count": 58,
   "metadata": {},
   "outputs": [],
   "source": [
    "# Converts a number of wins, losses, and ties to a fractional score (fscore)\n",
    "def fscore(arr):\n",
    "    return (arr[0] + arr[2]*0.5)/sum(arr)\n",
    "\n",
    "# Used to shorten my code and reduce a lot of character repitition, vc short for value counts\n",
    "def vc(df,cond):\n",
    "    return df[cond].magnus_result.value_counts()\n",
    "\n",
    "def vco(df): # vco short for value counts overall\n",
    "    return df.magnus_result.value_counts()\n"
   ]
  },
  {
   "cell_type": "code",
   "execution_count": 37,
   "metadata": {},
   "outputs": [
    {
     "name": "stdout",
     "output_type": "stream",
     "text": [
      "Overall win percentage:  0.7188662401428358\n",
      "Black win percentage:  0.6903731343283582\n",
      "White win percentage:  0.7471818451498072\n"
     ]
    }
   ],
   "source": [
    "print('Overall win percentage: ',fscore(vco(cg)))\n",
    "print('Black win percentage: ',fscore(vc(cg,cg.black=='Magnus Carlsen')))\n",
    "print('White win percentage: ',fscore(vc(cg,cg.white=='Magnus Carlsen')))\n",
    "# Significant 5% difference between black and white"
   ]
  },
  {
   "cell_type": "code",
   "execution_count": 38,
   "metadata": {},
   "outputs": [
    {
     "data": {
      "image/png": "[encoded data removed]",
      "text/plain": [
       "<Figure size 432x288 with 1 Axes>"
      ]
     },
     "metadata": {
      "needs_background": "light"
     },
     "output_type": "display_data"
    }
   ],
   "source": [
    "x = ['Overall','White','Black']\n",
    "y = [fscore(vco(cg)),fscore(vc(cg,cg.white=='Magnus Carlsen')),fscore(vc(cg,cg.black=='Magnus Carlsen'))]\n",
    "plt.bar(x,y)\n",
    "plt.title('Win Percentage by Color')\n",
    "plt.xlabel('Color')\n",
    "plt.ylabel('Percentage')\n",
    "for index, value in enumerate(y):\n",
    "    plt.text(index, value,\n",
    "             str(round(value,3)))\n",
    "plt.show()"
   ]
  },
  {
   "cell_type": "code",
   "execution_count": 46,
   "metadata": {},
   "outputs": [
    {
     "data": {
      "image/png": "[encoded data removed]",
      "text/plain": [
       "<Figure size 432x288 with 1 Axes>"
      ]
     },
     "metadata": {
      "needs_background": "light"
     },
     "output_type": "display_data"
    }
   ],
   "source": [
    "x = ['Overall','2018','2019','2020','2021']\n",
    "y = [fscore(vco(cg)),fscore(vc(cg,cg.utc_date.str[0:4]=='2018')),fscore(vc(cg,cg.utc_date.str[0:4]=='2019')),fscore(vc(cg,cg.utc_date.str[0:4]=='2020')),fscore(vc(cg,cg.utc_date.str[0:4]=='2021'))]\n",
    "plt.bar(x,y)\n",
    "plt.title('Win Percentage by Year')\n",
    "plt.xlabel('Year')\n",
    "plt.ylabel('Percentage')\n",
    "for index, value in enumerate(y):\n",
    "    plt.text(index, value,\n",
    "             str(round(value,3)))\n",
    "plt.show()"
   ]
  },
  {
   "cell_type": "code",
   "execution_count": 48,
   "metadata": {},
   "outputs": [
    {
     "data": {
      "image/png": "[encoded data removed]",
      "text/plain": [
       "<Figure size 432x288 with 1 Axes>"
      ]
     },
     "metadata": {
      "needs_background": "light"
     },
     "output_type": "display_data"
    }
   ],
   "source": [
    "# 85% of games are 60+0, 6% of games are 180+0 and other time controls are even lower, will change or remove\n",
    "x = ['Overall','60+0','Not 60+0']\n",
    "y = [fscore(vco(cg)),fscore(vc(cg,cg.time_control=='60+0')),fscore(vc(cg,cg.time_control!='60+0'))]\n",
    "plt.bar(x,y)\n",
    "plt.title('Win Percentage by Time Control')\n",
    "plt.xlabel('Time Control')\n",
    "plt.ylabel('Percentage')\n",
    "for index, value in enumerate(y):\n",
    "    plt.text(index, value,\n",
    "             str(round(value,3)))\n",
    "plt.show()"
   ]
  },
  {
   "cell_type": "code",
   "execution_count": 113,
   "metadata": {},
   "outputs": [
    {
     "data": {
      "image/png": "[encoded data removed]",
      "text/plain": [
       "<Figure size 1440x216 with 1 Axes>"
      ]
     },
     "metadata": {
      "needs_background": "light"
     },
     "output_type": "display_data"
    }
   ],
   "source": [
    "# I think first move might be better but this is a test\n",
    "x = ['Overall','A00','B01','B06','A04','A01']\n",
    "y = [fscore(vco(cg)),fscore(cg[cg.eco=='A00'].magnus_result.value_counts()),fscore(cg[cg.eco=='B01'].magnus_result.value_counts()),fscore(cg[cg.eco=='B06'].magnus_result.value_counts()),fscore(cg[cg.eco=='A04'].magnus_result.value_counts()),fscore(cg[cg.eco=='A01'].magnus_result.value_counts())]\n",
    "plt.bar(x,y)\n",
    "plt.title('Win Percentage by Opening')\n",
    "plt.xlabel('Opening ECO Code')\n",
    "plt.ylabel('Percentage')\n",
    "for index, value in enumerate(y):\n",
    "    plt.text(index, value,\n",
    "             str(round(value,3)))\n",
    "plt.show()"
   ]
  },
  {
   "cell_type": "code",
   "execution_count": 56,
   "metadata": {},
   "outputs": [
    {
     "data": {
      "image/png": "[encoded data removed]",
      "text/plain": [
       "<Figure size 432x288 with 1 Axes>"
      ]
     },
     "metadata": {
      "needs_background": "light"
     },
     "output_type": "display_data"
    }
   ],
   "source": [
    "# Each bin has 1600+ games so I'm using these bins.\n",
    "# x = ['<2700','2700-2800','2800-2900','2900-3000','3000-3100','3100<']\n",
    "# y = [2141, 1612, 2202, 2488, 3201, 1798]\n",
    "\n",
    "x = ['Overall','<2700','2700s','2800s','2900s','3000s','3100<'] # Less characters\n",
    "y = [fscore(vco(cg)),fscore(vc(magoppres,magoppres.opp_elo<2700)),fscore(vc(magoppres,(magoppres.opp_elo<2800) &(magoppres.opp_elo>=2700))),fscore(vc(magoppres,(magoppres.opp_elo<2900) &(magoppres.opp_elo>=2800))),fscore(vc(magoppres,(magoppres.opp_elo<3000) &(magoppres.opp_elo>=2900))),fscore(vc(magoppres,(magoppres.opp_elo<3100) &(magoppres.opp_elo>=3000))),fscore(vc(magoppres,magoppres.opp_elo>=3100))]\n",
    "plt.bar(x,y)\n",
    "plt.title('Win Percentage by Opponent Rating')\n",
    "plt.xlabel('Opponent Rating')\n",
    "plt.ylabel('Percentage')\n",
    "for index, value in enumerate(y):\n",
    "    plt.text(index, value,\n",
    "             str(round(value,3)))\n",
    "plt.show()"
   ]
  }
 ],
 "metadata": {
  "interpreter": {
   "hash": "ab2e56e5a4f24cad0c49aa93a4628968ee20258e7f82f5186e5fd37b3b8c369f"
  },
  "kernelspec": {
   "display_name": "Python 3.9.7 64-bit",
   "language": "python",
   "name": "python3"
  },
  "language_info": {
   "codemirror_mode": {
    "name": "ipython",
    "version": 3
   },
   "file_extension": ".py",
   "mimetype": "text/x-python",
   "name": "python",
   "nbconvert_exporter": "python",
   "pygments_lexer": "ipython3",
   "version": "3.9.7"
  },
  "orig_nbformat": 4
 },
 "nbformat": 4,
 "nbformat_minor": 2
}
