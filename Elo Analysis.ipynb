{
 "cells": [
  {
   "cell_type": "code",
   "execution_count": 4,
   "metadata": {},
   "outputs": [],
   "source": [
    "# Code used for Elo Analysis\n",
    "import pandas as pd\n",
    "import matplotlib.pyplot as plt\n",
    "%store -r cg\n",
    "%store -r magoppres"
   ]
  },
  {
   "cell_type": "code",
   "execution_count": 5,
   "metadata": {},
   "outputs": [],
   "source": [
    "cg = cg\n",
    "magoppres = magoppres"
   ]
  },
  {
   "cell_type": "code",
   "execution_count": 6,
   "metadata": {},
   "outputs": [],
   "source": [
    "# Converts a number of wins, losses, and ties to a win percentage\n",
    "def winpercentage(arr):\n",
    "    return (arr[0] + arr[2]*0.5)/sum(arr)"
   ]
  },
  {
   "cell_type": "code",
   "execution_count": 7,
   "metadata": {},
   "outputs": [],
   "source": [
    "# https://en.wikipedia.org/wiki/Elo_rating_system\n",
    "# Lichess uses the glicko2 rating system which is more accurate and way more complex than Elo.\n",
    "# Therefore, there will be a difference between the ratings on lichess and the ratings I calculate here\n",
    "# I'll be using the linear performance rating system which is simple compared to the original Elo rating system.\n",
    "# rating = avrg opponent rating + 800*winratepercentage - 400\n",
    "def rating(avrgopprating,winratepercentage):\n",
    "    return avrgopprating + 800*winratepercentage - 400\n"
   ]
  },
  {
   "cell_type": "code",
   "execution_count": 8,
   "metadata": {},
   "outputs": [
    {
     "data": {
      "text/plain": [
       "3042.2388781431337"
      ]
     },
     "execution_count": 8,
     "metadata": {},
     "output_type": "execute_result"
    }
   ],
   "source": [
    "rating(sum(magoppres.opp_elo)/len(magoppres.opp_elo),winpercentage(magoppres.magnus_result.value_counts()))\n",
    "# performance overall"
   ]
  },
  {
   "cell_type": "code",
   "execution_count": 9,
   "metadata": {},
   "outputs": [
    {
     "data": {
      "text/plain": [
       "3263.455518018018"
      ]
     },
     "execution_count": 9,
     "metadata": {},
     "output_type": "execute_result"
    }
   ],
   "source": [
    "rating(sum(magoppres[magoppres.opp_elo>3100].opp_elo)/len(magoppres[magoppres.opp_elo>3100].opp_elo),winpercentage(magoppres[magoppres.opp_elo>3100].magnus_result.value_counts()))\n",
    "# performance when against >3100s"
   ]
  },
  {
   "cell_type": "code",
   "execution_count": 10,
   "metadata": {},
   "outputs": [
    {
     "data": {
      "text/plain": [
       "2624.178888369921"
      ]
     },
     "execution_count": 10,
     "metadata": {},
     "output_type": "execute_result"
    }
   ],
   "source": [
    "rating(sum(magoppres[magoppres.opp_elo<2700].opp_elo)/len(magoppres[magoppres.opp_elo<2700].opp_elo),winpercentage(magoppres[magoppres.opp_elo<2700].magnus_result.value_counts()))\n",
    "# performance when against <2700s"
   ]
  }
 ],
 "metadata": {
  "interpreter": {
   "hash": "ab2e56e5a4f24cad0c49aa93a4628968ee20258e7f82f5186e5fd37b3b8c369f"
  },
  "kernelspec": {
   "display_name": "Python 3.9.7 64-bit",
   "language": "python",
   "name": "python3"
  },
  "language_info": {
   "codemirror_mode": {
    "name": "ipython",
    "version": 3
   },
   "file_extension": ".py",
   "mimetype": "text/x-python",
   "name": "python",
   "nbconvert_exporter": "python",
   "pygments_lexer": "ipython3",
   "version": "3.9.7"
  },
  "orig_nbformat": 4
 },
 "nbformat": 4,
 "nbformat_minor": 2
}
