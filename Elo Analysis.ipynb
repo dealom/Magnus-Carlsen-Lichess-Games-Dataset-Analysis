{
 "cells": [
  {
   "cell_type": "code",
   "execution_count": 50,
   "metadata": {},
   "outputs": [],
   "source": [
    "# Code used for Elo Analysis\n",
    "import pandas as pd\n",
    "import numpy as np\n",
    "import matplotlib.pyplot as plt\n",
    "%store -r cg\n",
    "%store -r magoppres\n",
    "%store -r mg"
   ]
  },
  {
   "cell_type": "code",
   "execution_count": 51,
   "metadata": {},
   "outputs": [],
   "source": [
    "cg = cg\n",
    "magoppres = magoppres\n",
    "mg = mg"
   ]
  },
  {
   "cell_type": "code",
   "execution_count": 14,
   "metadata": {},
   "outputs": [],
   "source": [
    "# Converts a number of wins, losses, and ties to a fractional score (fscore), intended for the valuecounts\n",
    "def fscore(arr):\n",
    "    return (arr[0] + arr[2]*0.5)/sum(arr)\n",
    "\n",
    "# Used to shorten my code and reduce a lot of character repitition, vc short for value counts\n",
    "def vc(df,cond):\n",
    "    return df[cond].magnus_result.value_counts()\n",
    "\n",
    "def vco(df): # vco short for value counts overall\n",
    "    return df.magnus_result.value_counts()\n"
   ]
  },
  {
   "cell_type": "code",
   "execution_count": 7,
   "metadata": {},
   "outputs": [],
   "source": [
    "# https://en.wikipedia.org/wiki/Elo_rating_system\n",
    "# Lichess uses the glicko2 rating system which is more accurate and way more complex than Elo.\n",
    "# Therefore, there will be a difference between the ratings on lichess and the ratings I calculate here\n",
    "# I'll be using the linear performance rating system which is simple compared to the original Elo rating system.\n",
    "# this rating represents what's the rating necessary to get that performance, that's why its low?\n",
    "# rating = avrg opponent rating + 800*winratepercentage - 400\n",
    "def rating(avrgopprating,winratepercentage):\n",
    "    return avrgopprating + 800*winratepercentage - 400\n"
   ]
  },
  {
   "cell_type": "code",
   "execution_count": 58,
   "metadata": {},
   "outputs": [
    {
     "data": {
      "image/png": "[encoded data removed]",
      "text/plain": [
       "<Figure size 432x288 with 1 Axes>"
      ]
     },
     "metadata": {
      "needs_background": "light"
     },
     "output_type": "display_data"
    }
   ],
   "source": [
    "x = ['Overall','<2700','2700s','2800s','2900s','3000s','3100<'] \n",
    "y = [rating(np.mean(magoppres.opp_elo),fscore(vco(magoppres))),\n",
    "    rating(np.mean(magoppres[magoppres.opp_elo<2700].opp_elo),fscore(vc(magoppres,magoppres.opp_elo<2700))),\n",
    "    rating(np.mean(magoppres[(magoppres.opp_elo<2800) &(magoppres.opp_elo>=2700)].opp_elo),fscore(vc(magoppres,(magoppres.opp_elo<2800) &(magoppres.opp_elo>=2700)))),\n",
    "    rating(np.mean(magoppres[(magoppres.opp_elo<2900) &(magoppres.opp_elo>=2800)].opp_elo),fscore(vc(magoppres,(magoppres.opp_elo<2900) &(magoppres.opp_elo>=2800)))),\n",
    "    rating(np.mean(magoppres[(magoppres.opp_elo<3000) &(magoppres.opp_elo>=2900)].opp_elo),fscore(vc(magoppres,(magoppres.opp_elo<3000) &(magoppres.opp_elo>=2900)))),\n",
    "    rating(np.mean(magoppres[(magoppres.opp_elo<3100) &(magoppres.opp_elo>=3000)].opp_elo),fscore(vc(magoppres,(magoppres.opp_elo<3100) &(magoppres.opp_elo>=3000)))),\n",
    "    rating(np.mean(magoppres[magoppres.opp_elo>3100].opp_elo),fscore(vc(magoppres,magoppres.opp_elo>3100)))]\n",
    "plt.bar(x,y)\n",
    "plt.title('Linear Performance Rating by Opponent Rating')\n",
    "plt.xlabel('Opponent Rating')\n",
    "plt.ylabel('Linear Performance')\n",
    "for index, value in enumerate(y):\n",
    "    plt.text(index-0.5, value,\n",
    "             str(round(value)))\n",
    "plt.show()\n"
   ]
  },
  {
   "cell_type": "code",
   "execution_count": 52,
   "metadata": {},
   "outputs": [
    {
     "data": {
      "text/html": [
       "<div>\n",
       "<style scoped>\n",
       "    .dataframe tbody tr th:only-of-type {\n",
       "        vertical-align: middle;\n",
       "    }\n",
       "\n",
       "    .dataframe tbody tr th {\n",
       "        vertical-align: top;\n",
       "    }\n",
       "\n",
       "    .dataframe thead th {\n",
       "        text-align: right;\n",
       "    }\n",
       "</style>\n",
       "<table border=\"1\" class=\"dataframe\">\n",
       "  <thead>\n",
       "    <tr style=\"text-align: right;\">\n",
       "      <th></th>\n",
       "      <th>magnus_color</th>\n",
       "      <th>mag_elo</th>\n",
       "      <th>opp_elo</th>\n",
       "      <th>magnus_result</th>\n",
       "      <th>eco</th>\n",
       "      <th>time_control</th>\n",
       "      <th>utc_date</th>\n",
       "      <th>utc_time</th>\n",
       "    </tr>\n",
       "  </thead>\n",
       "  <tbody>\n",
       "    <tr>\n",
       "      <th>0</th>\n",
       "      <td>black</td>\n",
       "      <td>2500.0</td>\n",
       "      <td>2532.0</td>\n",
       "      <td>lost</td>\n",
       "      <td>E47</td>\n",
       "      <td>60+0</td>\n",
       "      <td>2017.12.14</td>\n",
       "      <td>21:00:02</td>\n",
       "    </tr>\n",
       "    <tr>\n",
       "      <th>1</th>\n",
       "      <td>black</td>\n",
       "      <td>2558.0</td>\n",
       "      <td>2420.0</td>\n",
       "      <td>lost</td>\n",
       "      <td>B01</td>\n",
       "      <td>60+0</td>\n",
       "      <td>2017.12.14</td>\n",
       "      <td>21:01:10</td>\n",
       "    </tr>\n",
       "    <tr>\n",
       "      <th>2</th>\n",
       "      <td>black</td>\n",
       "      <td>2493.0</td>\n",
       "      <td>2754.0</td>\n",
       "      <td>lost</td>\n",
       "      <td>B01</td>\n",
       "      <td>60+0</td>\n",
       "      <td>2017.12.14</td>\n",
       "      <td>21:04:13</td>\n",
       "    </tr>\n",
       "    <tr>\n",
       "      <th>3</th>\n",
       "      <td>black</td>\n",
       "      <td>2566.0</td>\n",
       "      <td>2755.0</td>\n",
       "      <td>lost</td>\n",
       "      <td>A01</td>\n",
       "      <td>60+0</td>\n",
       "      <td>2017.12.14</td>\n",
       "      <td>21:06:30</td>\n",
       "    </tr>\n",
       "    <tr>\n",
       "      <th>4</th>\n",
       "      <td>black</td>\n",
       "      <td>2627.0</td>\n",
       "      <td>2275.0</td>\n",
       "      <td>lost</td>\n",
       "      <td>A01</td>\n",
       "      <td>60+0</td>\n",
       "      <td>2017.12.14</td>\n",
       "      <td>21:07:57</td>\n",
       "    </tr>\n",
       "    <tr>\n",
       "      <th>...</th>\n",
       "      <td>...</td>\n",
       "      <td>...</td>\n",
       "      <td>...</td>\n",
       "      <td>...</td>\n",
       "      <td>...</td>\n",
       "      <td>...</td>\n",
       "      <td>...</td>\n",
       "      <td>...</td>\n",
       "    </tr>\n",
       "    <tr>\n",
       "      <th>13437</th>\n",
       "      <td>white</td>\n",
       "      <td>3202.0</td>\n",
       "      <td>2984.0</td>\n",
       "      <td>won</td>\n",
       "      <td>B20</td>\n",
       "      <td>180+0</td>\n",
       "      <td>2021.12.23</td>\n",
       "      <td>23:07:55</td>\n",
       "    </tr>\n",
       "    <tr>\n",
       "      <th>13438</th>\n",
       "      <td>black</td>\n",
       "      <td>3204.0</td>\n",
       "      <td>2982.0</td>\n",
       "      <td>won</td>\n",
       "      <td>E48</td>\n",
       "      <td>180+0</td>\n",
       "      <td>2021.12.23</td>\n",
       "      <td>23:10:43</td>\n",
       "    </tr>\n",
       "    <tr>\n",
       "      <th>13439</th>\n",
       "      <td>white</td>\n",
       "      <td>3207.0</td>\n",
       "      <td>2979.0</td>\n",
       "      <td>won</td>\n",
       "      <td>B20</td>\n",
       "      <td>180+0</td>\n",
       "      <td>2021.12.23</td>\n",
       "      <td>23:15:48</td>\n",
       "    </tr>\n",
       "    <tr>\n",
       "      <th>13440</th>\n",
       "      <td>black</td>\n",
       "      <td>3209.0</td>\n",
       "      <td>2977.0</td>\n",
       "      <td>won</td>\n",
       "      <td>E48</td>\n",
       "      <td>180+0</td>\n",
       "      <td>2021.12.23</td>\n",
       "      <td>23:21:54</td>\n",
       "    </tr>\n",
       "    <tr>\n",
       "      <th>13441</th>\n",
       "      <td>white</td>\n",
       "      <td>3212.0</td>\n",
       "      <td>2974.0</td>\n",
       "      <td>won</td>\n",
       "      <td>B20</td>\n",
       "      <td>180+0</td>\n",
       "      <td>2021.12.23</td>\n",
       "      <td>23:28:07</td>\n",
       "    </tr>\n",
       "  </tbody>\n",
       "</table>\n",
       "<p>13442 rows × 8 columns</p>\n",
       "</div>"
      ],
      "text/plain": [
       "      magnus_color mag_elo opp_elo magnus_result  eco time_control  \\\n",
       "0            black  2500.0  2532.0          lost  E47         60+0   \n",
       "1            black  2558.0  2420.0          lost  B01         60+0   \n",
       "2            black  2493.0  2754.0          lost  B01         60+0   \n",
       "3            black  2566.0  2755.0          lost  A01         60+0   \n",
       "4            black  2627.0  2275.0          lost  A01         60+0   \n",
       "...            ...     ...     ...           ...  ...          ...   \n",
       "13437        white  3202.0  2984.0           won  B20        180+0   \n",
       "13438        black  3204.0  2982.0           won  E48        180+0   \n",
       "13439        white  3207.0  2979.0           won  B20        180+0   \n",
       "13440        black  3209.0  2977.0           won  E48        180+0   \n",
       "13441        white  3212.0  2974.0           won  B20        180+0   \n",
       "\n",
       "         utc_date  utc_time  \n",
       "0      2017.12.14  21:00:02  \n",
       "1      2017.12.14  21:01:10  \n",
       "2      2017.12.14  21:04:13  \n",
       "3      2017.12.14  21:06:30  \n",
       "4      2017.12.14  21:07:57  \n",
       "...           ...       ...  \n",
       "13437  2021.12.23  23:07:55  \n",
       "13438  2021.12.23  23:10:43  \n",
       "13439  2021.12.23  23:15:48  \n",
       "13440  2021.12.23  23:21:54  \n",
       "13441  2021.12.23  23:28:07  \n",
       "\n",
       "[13442 rows x 8 columns]"
      ]
     },
     "execution_count": 52,
     "metadata": {},
     "output_type": "execute_result"
    }
   ],
   "source": [
    "mg"
   ]
  },
  {
   "cell_type": "code",
   "execution_count": 53,
   "metadata": {},
   "outputs": [
    {
     "data": {
      "text/plain": [
       "3069.599940200329"
      ]
     },
     "execution_count": 53,
     "metadata": {},
     "output_type": "execute_result"
    }
   ],
   "source": [
    "rating(np.mean(mg[mg.magnus_color=='white'].opp_elo),fscore(vc(mg,mg.magnus_color=='white')))"
   ]
  },
  {
   "cell_type": "code",
   "execution_count": 54,
   "metadata": {},
   "outputs": [
    {
     "data": {
      "text/plain": [
       "3015.137124241078"
      ]
     },
     "execution_count": 54,
     "metadata": {},
     "output_type": "execute_result"
    }
   ],
   "source": [
    "rating(np.mean(mg[mg.magnus_color=='black'].opp_elo),fscore(vc(mg,mg.magnus_color=='black')))"
   ]
  },
  {
   "cell_type": "code",
   "execution_count": 57,
   "metadata": {},
   "outputs": [
    {
     "data": {
      "image/png": "[encoded data removed]",
      "text/plain": [
       "<Figure size 432x288 with 1 Axes>"
      ]
     },
     "metadata": {
      "needs_background": "light"
     },
     "output_type": "display_data"
    }
   ],
   "source": [
    "x = ['Overall','White','Black']\n",
    "y = [rating(np.mean(magoppres.opp_elo),fscore(vco(magoppres))),\n",
    "    rating(np.mean(mg[mg.magnus_color=='white'].opp_elo),fscore(vc(mg,mg.magnus_color=='white'))),\n",
    "    rating(np.mean(mg[mg.magnus_color=='black'].opp_elo),fscore(vc(mg,mg.magnus_color=='black')))]\n",
    "    \n",
    "plt.bar(x,y)\n",
    "plt.title('Linear Performance Rating by Color')\n",
    "plt.xlabel('Color')\n",
    "plt.ylabel('Linear Performance')\n",
    "for index, value in enumerate(y):\n",
    "    plt.text(index, value,\n",
    "             str(round(value)))\n",
    "plt.show()"
   ]
  },
  {
   "cell_type": "code",
   "execution_count": 68,
   "metadata": {},
   "outputs": [
    {
     "data": {
      "image/png": "[encoded data removed]",
      "text/plain": [
       "<Figure size 432x288 with 1 Axes>"
      ]
     },
     "metadata": {
      "needs_background": "light"
     },
     "output_type": "display_data"
    }
   ],
   "source": [
    "# avrg opponent rating had more influence than win rate here \n",
    "x = ['Overall','2018','2019','2020','2021']\n",
    "y = [rating(np.mean(magoppres.opp_elo),fscore(vco(magoppres))),\n",
    "    rating(np.mean(mg[mg.utc_date.str[0:4]=='2018'].opp_elo),fscore(vc(mg,mg.utc_date.str[0:4]=='2018'))),\n",
    "    rating(np.mean(mg[mg.utc_date.str[0:4]=='2019'].opp_elo),fscore(vc(mg,mg.utc_date.str[0:4]=='2019'))),\n",
    "    rating(np.mean(mg[mg.utc_date.str[0:4]=='2020'].opp_elo),fscore(vc(mg,mg.utc_date.str[0:4]=='2020'))),\n",
    "    rating(np.mean(mg[mg.utc_date.str[0:4]=='2021'].opp_elo),fscore(vc(mg,mg.utc_date.str[0:4]=='2021')))]\n",
    "plt.bar(x,y)\n",
    "plt.title('Linear Performance Rating by Year')\n",
    "plt.xlabel('Year')\n",
    "plt.ylabel('Performance')\n",
    "for index, value in enumerate(y):\n",
    "    plt.text(index, value,\n",
    "             str(round(value)))\n",
    "plt.show()"
   ]
  },
  {
   "cell_type": "code",
   "execution_count": 64,
   "metadata": {},
   "outputs": [
    {
     "name": "stdout",
     "output_type": "stream",
     "text": [
      "2599.0007518796992\n",
      "2685.139337952271\n",
      "2938.451991406379\n",
      "2905.3113592441487\n"
     ]
    }
   ],
   "source": [
    "print(np.mean(mg[mg.utc_date.str[0:4]=='2018'].opp_elo))\n",
    "print(np.mean(mg[mg.utc_date.str[0:4]=='2019'].opp_elo))\n",
    "print(np.mean(mg[mg.utc_date.str[0:4]=='2020'].opp_elo))\n",
    "print(np.mean(mg[mg.utc_date.str[0:4]=='2021'].opp_elo))"
   ]
  }
 ],
 "metadata": {
  "interpreter": {
   "hash": "ab2e56e5a4f24cad0c49aa93a4628968ee20258e7f82f5186e5fd37b3b8c369f"
  },
  "kernelspec": {
   "display_name": "Python 3.9.7 64-bit",
   "language": "python",
   "name": "python3"
  },
  "language_info": {
   "codemirror_mode": {
    "name": "ipython",
    "version": 3
   },
   "file_extension": ".py",
   "mimetype": "text/x-python",
   "name": "python",
   "nbconvert_exporter": "python",
   "pygments_lexer": "ipython3",
   "version": "3.9.7"
  },
  "orig_nbformat": 4
 },
 "nbformat": 4,
 "nbformat_minor": 2
}
