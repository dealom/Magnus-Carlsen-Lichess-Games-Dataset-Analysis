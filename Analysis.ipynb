{
 "cells": [
  {
   "cell_type": "code",
   "execution_count": 6,
   "metadata": {},
   "outputs": [],
   "source": [
    "# Code used for Analysis\n",
    "import pandas as pd\n",
    "import matplotlib.pyplot as plt\n",
    "%store -r cg"
   ]
  },
  {
   "cell_type": "code",
   "execution_count": 9,
   "metadata": {},
   "outputs": [],
   "source": [
    "cg = cg # Defining cg "
   ]
  },
  {
   "cell_type": "code",
   "execution_count": 10,
   "metadata": {},
   "outputs": [
    {
     "data": {
      "text/html": [
       "<div>\n",
       "<style scoped>\n",
       "    .dataframe tbody tr th:only-of-type {\n",
       "        vertical-align: middle;\n",
       "    }\n",
       "\n",
       "    .dataframe tbody tr th {\n",
       "        vertical-align: top;\n",
       "    }\n",
       "\n",
       "    .dataframe thead th {\n",
       "        text-align: right;\n",
       "    }\n",
       "</style>\n",
       "<table border=\"1\" class=\"dataframe\">\n",
       "  <thead>\n",
       "    <tr style=\"text-align: right;\">\n",
       "      <th></th>\n",
       "      <th>game_order</th>\n",
       "      <th>event</th>\n",
       "      <th>site</th>\n",
       "      <th>white_title</th>\n",
       "      <th>white_rating_diff</th>\n",
       "      <th>white_elo</th>\n",
       "      <th>white</th>\n",
       "      <th>result</th>\n",
       "      <th>black</th>\n",
       "      <th>black_elo</th>\n",
       "      <th>black_rating_diff</th>\n",
       "      <th>black_title</th>\n",
       "      <th>winner_loser_elo_diff</th>\n",
       "      <th>eco</th>\n",
       "      <th>termination</th>\n",
       "      <th>time_control</th>\n",
       "      <th>utc_date</th>\n",
       "      <th>utc_time</th>\n",
       "      <th>variant</th>\n",
       "      <th>magnus_result</th>\n",
       "    </tr>\n",
       "  </thead>\n",
       "  <tbody>\n",
       "    <tr>\n",
       "      <th>0</th>\n",
       "      <td>105</td>\n",
       "      <td>Lichess Titled Arena</td>\n",
       "      <td>https://lichess.org/KEvLWfdH</td>\n",
       "      <td>GM</td>\n",
       "      <td>58.0</td>\n",
       "      <td>2500</td>\n",
       "      <td>Magnus Carlsen</td>\n",
       "      <td>1-0</td>\n",
       "      <td>jsalomon</td>\n",
       "      <td>2532</td>\n",
       "      <td>-13.0</td>\n",
       "      <td>GM</td>\n",
       "      <td>-32</td>\n",
       "      <td>E47</td>\n",
       "      <td>Normal</td>\n",
       "      <td>60+0</td>\n",
       "      <td>2017.12.14</td>\n",
       "      <td>21:00:02</td>\n",
       "      <td>Standard</td>\n",
       "      <td>lost</td>\n",
       "    </tr>\n",
       "    <tr>\n",
       "      <th>1</th>\n",
       "      <td>104</td>\n",
       "      <td>Lichess Titled Arena</td>\n",
       "      <td>https://lichess.org/9YoOXtxp</td>\n",
       "      <td>IM</td>\n",
       "      <td>17.0</td>\n",
       "      <td>2420</td>\n",
       "      <td>Yoseph Taher</td>\n",
       "      <td>1-0</td>\n",
       "      <td>Magnus Carlsen</td>\n",
       "      <td>2558</td>\n",
       "      <td>-65.0</td>\n",
       "      <td>GM</td>\n",
       "      <td>-138</td>\n",
       "      <td>B01</td>\n",
       "      <td>Time forfeit</td>\n",
       "      <td>60+0</td>\n",
       "      <td>2017.12.14</td>\n",
       "      <td>21:01:10</td>\n",
       "      <td>Standard</td>\n",
       "      <td>lost</td>\n",
       "    </tr>\n",
       "    <tr>\n",
       "      <th>2</th>\n",
       "      <td>103</td>\n",
       "      <td>Lichess Titled Arena</td>\n",
       "      <td>https://lichess.org/yh0IxjPf</td>\n",
       "      <td>FM</td>\n",
       "      <td>-17.0</td>\n",
       "      <td>2754</td>\n",
       "      <td>gnejs</td>\n",
       "      <td>0-1</td>\n",
       "      <td>Magnus Carlsen</td>\n",
       "      <td>2493</td>\n",
       "      <td>73.0</td>\n",
       "      <td>GM</td>\n",
       "      <td>-261</td>\n",
       "      <td>B01</td>\n",
       "      <td>Normal</td>\n",
       "      <td>60+0</td>\n",
       "      <td>2017.12.14</td>\n",
       "      <td>21:04:13</td>\n",
       "      <td>Standard</td>\n",
       "      <td>lost</td>\n",
       "    </tr>\n",
       "    <tr>\n",
       "      <th>3</th>\n",
       "      <td>102</td>\n",
       "      <td>Lichess Titled Arena</td>\n",
       "      <td>https://lichess.org/qcHWzltq</td>\n",
       "      <td>GM</td>\n",
       "      <td>61.0</td>\n",
       "      <td>2566</td>\n",
       "      <td>Magnus Carlsen</td>\n",
       "      <td>1-0</td>\n",
       "      <td>Toivo Keinänen</td>\n",
       "      <td>2755</td>\n",
       "      <td>-16.0</td>\n",
       "      <td>IM</td>\n",
       "      <td>-189</td>\n",
       "      <td>A01</td>\n",
       "      <td>Normal</td>\n",
       "      <td>60+0</td>\n",
       "      <td>2017.12.14</td>\n",
       "      <td>21:06:30</td>\n",
       "      <td>Standard</td>\n",
       "      <td>lost</td>\n",
       "    </tr>\n",
       "    <tr>\n",
       "      <th>4</th>\n",
       "      <td>101</td>\n",
       "      <td>Lichess Titled Arena</td>\n",
       "      <td>https://lichess.org/HhV5RN5e</td>\n",
       "      <td>GM</td>\n",
       "      <td>9.0</td>\n",
       "      <td>2627</td>\n",
       "      <td>Magnus Carlsen</td>\n",
       "      <td>1-0</td>\n",
       "      <td>AusCub</td>\n",
       "      <td>2275</td>\n",
       "      <td>-4.0</td>\n",
       "      <td>NM</td>\n",
       "      <td>352</td>\n",
       "      <td>A01</td>\n",
       "      <td>Normal</td>\n",
       "      <td>60+0</td>\n",
       "      <td>2017.12.14</td>\n",
       "      <td>21:07:57</td>\n",
       "      <td>Standard</td>\n",
       "      <td>lost</td>\n",
       "    </tr>\n",
       "  </tbody>\n",
       "</table>\n",
       "</div>"
      ],
      "text/plain": [
       "   game_order                 event                          site white_title  \\\n",
       "0         105  Lichess Titled Arena  https://lichess.org/KEvLWfdH          GM   \n",
       "1         104  Lichess Titled Arena  https://lichess.org/9YoOXtxp          IM   \n",
       "2         103  Lichess Titled Arena  https://lichess.org/yh0IxjPf          FM   \n",
       "3         102  Lichess Titled Arena  https://lichess.org/qcHWzltq          GM   \n",
       "4         101  Lichess Titled Arena  https://lichess.org/HhV5RN5e          GM   \n",
       "\n",
       "   white_rating_diff  white_elo           white result           black  \\\n",
       "0               58.0       2500  Magnus Carlsen    1-0        jsalomon   \n",
       "1               17.0       2420    Yoseph Taher    1-0  Magnus Carlsen   \n",
       "2              -17.0       2754           gnejs    0-1  Magnus Carlsen   \n",
       "3               61.0       2566  Magnus Carlsen    1-0  Toivo Keinänen   \n",
       "4                9.0       2627  Magnus Carlsen    1-0          AusCub   \n",
       "\n",
       "   black_elo  black_rating_diff black_title  winner_loser_elo_diff  eco  \\\n",
       "0       2532              -13.0          GM                    -32  E47   \n",
       "1       2558              -65.0          GM                   -138  B01   \n",
       "2       2493               73.0          GM                   -261  B01   \n",
       "3       2755              -16.0          IM                   -189  A01   \n",
       "4       2275               -4.0          NM                    352  A01   \n",
       "\n",
       "    termination time_control    utc_date  utc_time   variant magnus_result  \n",
       "0        Normal         60+0  2017.12.14  21:00:02  Standard          lost  \n",
       "1  Time forfeit         60+0  2017.12.14  21:01:10  Standard          lost  \n",
       "2        Normal         60+0  2017.12.14  21:04:13  Standard          lost  \n",
       "3        Normal         60+0  2017.12.14  21:06:30  Standard          lost  \n",
       "4        Normal         60+0  2017.12.14  21:07:57  Standard          lost  "
      ]
     },
     "execution_count": 10,
     "metadata": {},
     "output_type": "execute_result"
    }
   ],
   "source": [
    "cg.head()"
   ]
  },
  {
   "cell_type": "code",
   "execution_count": 70,
   "metadata": {},
   "outputs": [
    {
     "data": {
      "text/html": [
       "<div>\n",
       "<style scoped>\n",
       "    .dataframe tbody tr th:only-of-type {\n",
       "        vertical-align: middle;\n",
       "    }\n",
       "\n",
       "    .dataframe tbody tr th {\n",
       "        vertical-align: top;\n",
       "    }\n",
       "\n",
       "    .dataframe thead th {\n",
       "        text-align: right;\n",
       "    }\n",
       "</style>\n",
       "<table border=\"1\" class=\"dataframe\">\n",
       "  <thead>\n",
       "    <tr style=\"text-align: right;\">\n",
       "      <th></th>\n",
       "      <th>index</th>\n",
       "      <th>white_elo</th>\n",
       "    </tr>\n",
       "  </thead>\n",
       "  <tbody>\n",
       "    <tr>\n",
       "      <th>0</th>\n",
       "      <td>0</td>\n",
       "      <td>2500</td>\n",
       "    </tr>\n",
       "    <tr>\n",
       "      <th>1</th>\n",
       "      <td>3</td>\n",
       "      <td>2566</td>\n",
       "    </tr>\n",
       "    <tr>\n",
       "      <th>2</th>\n",
       "      <td>4</td>\n",
       "      <td>2627</td>\n",
       "    </tr>\n",
       "    <tr>\n",
       "      <th>3</th>\n",
       "      <td>6</td>\n",
       "      <td>2675</td>\n",
       "    </tr>\n",
       "    <tr>\n",
       "      <th>4</th>\n",
       "      <td>9</td>\n",
       "      <td>2652</td>\n",
       "    </tr>\n",
       "    <tr>\n",
       "      <th>...</th>\n",
       "      <td>...</td>\n",
       "      <td>...</td>\n",
       "    </tr>\n",
       "    <tr>\n",
       "      <th>6737</th>\n",
       "      <td>13433</td>\n",
       "      <td>3191</td>\n",
       "    </tr>\n",
       "    <tr>\n",
       "      <th>6738</th>\n",
       "      <td>13435</td>\n",
       "      <td>3196</td>\n",
       "    </tr>\n",
       "    <tr>\n",
       "      <th>6739</th>\n",
       "      <td>13437</td>\n",
       "      <td>3202</td>\n",
       "    </tr>\n",
       "    <tr>\n",
       "      <th>6740</th>\n",
       "      <td>13439</td>\n",
       "      <td>3207</td>\n",
       "    </tr>\n",
       "    <tr>\n",
       "      <th>6741</th>\n",
       "      <td>13441</td>\n",
       "      <td>3212</td>\n",
       "    </tr>\n",
       "  </tbody>\n",
       "</table>\n",
       "<p>6742 rows × 2 columns</p>\n",
       "</div>"
      ],
      "text/plain": [
       "      index  white_elo\n",
       "0         0       2500\n",
       "1         3       2566\n",
       "2         4       2627\n",
       "3         6       2675\n",
       "4         9       2652\n",
       "...     ...        ...\n",
       "6737  13433       3191\n",
       "6738  13435       3196\n",
       "6739  13437       3202\n",
       "6740  13439       3207\n",
       "6741  13441       3212\n",
       "\n",
       "[6742 rows x 2 columns]"
      ]
     },
     "execution_count": 70,
     "metadata": {},
     "output_type": "execute_result"
    }
   ],
   "source": [
    "# The next few code blocks is an attempt to keep track of Magnus' elo. This also helps when keeping track of his oppponents' elo as well\n",
    "magnuswhiteelo = cg.loc[(cg.white=='Magnus Carlsen'),['white_elo']]\n",
    "magnuswhiteelo.reset_index(inplace=True)\n",
    "magnuswhiteelo"
   ]
  },
  {
   "cell_type": "code",
   "execution_count": 71,
   "metadata": {},
   "outputs": [
    {
     "data": {
      "text/html": [
       "<div>\n",
       "<style scoped>\n",
       "    .dataframe tbody tr th:only-of-type {\n",
       "        vertical-align: middle;\n",
       "    }\n",
       "\n",
       "    .dataframe tbody tr th {\n",
       "        vertical-align: top;\n",
       "    }\n",
       "\n",
       "    .dataframe thead th {\n",
       "        text-align: right;\n",
       "    }\n",
       "</style>\n",
       "<table border=\"1\" class=\"dataframe\">\n",
       "  <thead>\n",
       "    <tr style=\"text-align: right;\">\n",
       "      <th></th>\n",
       "      <th>index</th>\n",
       "      <th>black_elo</th>\n",
       "    </tr>\n",
       "  </thead>\n",
       "  <tbody>\n",
       "    <tr>\n",
       "      <th>0</th>\n",
       "      <td>1</td>\n",
       "      <td>2558</td>\n",
       "    </tr>\n",
       "    <tr>\n",
       "      <th>1</th>\n",
       "      <td>2</td>\n",
       "      <td>2493</td>\n",
       "    </tr>\n",
       "    <tr>\n",
       "      <th>2</th>\n",
       "      <td>5</td>\n",
       "      <td>2636</td>\n",
       "    </tr>\n",
       "    <tr>\n",
       "      <th>3</th>\n",
       "      <td>7</td>\n",
       "      <td>2695</td>\n",
       "    </tr>\n",
       "    <tr>\n",
       "      <th>4</th>\n",
       "      <td>8</td>\n",
       "      <td>2702</td>\n",
       "    </tr>\n",
       "    <tr>\n",
       "      <th>...</th>\n",
       "      <td>...</td>\n",
       "      <td>...</td>\n",
       "    </tr>\n",
       "    <tr>\n",
       "      <th>6695</th>\n",
       "      <td>13432</td>\n",
       "      <td>3188</td>\n",
       "    </tr>\n",
       "    <tr>\n",
       "      <th>6696</th>\n",
       "      <td>13434</td>\n",
       "      <td>3193</td>\n",
       "    </tr>\n",
       "    <tr>\n",
       "      <th>6697</th>\n",
       "      <td>13436</td>\n",
       "      <td>3199</td>\n",
       "    </tr>\n",
       "    <tr>\n",
       "      <th>6698</th>\n",
       "      <td>13438</td>\n",
       "      <td>3204</td>\n",
       "    </tr>\n",
       "    <tr>\n",
       "      <th>6699</th>\n",
       "      <td>13440</td>\n",
       "      <td>3209</td>\n",
       "    </tr>\n",
       "  </tbody>\n",
       "</table>\n",
       "<p>6700 rows × 2 columns</p>\n",
       "</div>"
      ],
      "text/plain": [
       "      index  black_elo\n",
       "0         1       2558\n",
       "1         2       2493\n",
       "2         5       2636\n",
       "3         7       2695\n",
       "4         8       2702\n",
       "...     ...        ...\n",
       "6695  13432       3188\n",
       "6696  13434       3193\n",
       "6697  13436       3199\n",
       "6698  13438       3204\n",
       "6699  13440       3209\n",
       "\n",
       "[6700 rows x 2 columns]"
      ]
     },
     "execution_count": 71,
     "metadata": {},
     "output_type": "execute_result"
    }
   ],
   "source": [
    "magnusblackelo = cg.loc[(cg.black=='Magnus Carlsen'),['black_elo']]\n",
    "magnusblackelo.reset_index(inplace=True)\n",
    "magnusblackelo"
   ]
  },
  {
   "cell_type": "code",
   "execution_count": 93,
   "metadata": {},
   "outputs": [],
   "source": [
    "def mergeelo(row):\n",
    "    return row.white_elo + row.black_elo"
   ]
  },
  {
   "cell_type": "code",
   "execution_count": 90,
   "metadata": {},
   "outputs": [
    {
     "data": {
      "text/html": [
       "<div>\n",
       "<style scoped>\n",
       "    .dataframe tbody tr th:only-of-type {\n",
       "        vertical-align: middle;\n",
       "    }\n",
       "\n",
       "    .dataframe tbody tr th {\n",
       "        vertical-align: top;\n",
       "    }\n",
       "\n",
       "    .dataframe thead th {\n",
       "        text-align: right;\n",
       "    }\n",
       "</style>\n",
       "<table border=\"1\" class=\"dataframe\">\n",
       "  <thead>\n",
       "    <tr style=\"text-align: right;\">\n",
       "      <th></th>\n",
       "      <th>index</th>\n",
       "      <th>white_elo</th>\n",
       "      <th>black_elo</th>\n",
       "    </tr>\n",
       "  </thead>\n",
       "  <tbody>\n",
       "    <tr>\n",
       "      <th>0</th>\n",
       "      <td>0</td>\n",
       "      <td>2500.0</td>\n",
       "      <td>0.0</td>\n",
       "    </tr>\n",
       "    <tr>\n",
       "      <th>1</th>\n",
       "      <td>1</td>\n",
       "      <td>0.0</td>\n",
       "      <td>2558.0</td>\n",
       "    </tr>\n",
       "    <tr>\n",
       "      <th>2</th>\n",
       "      <td>2</td>\n",
       "      <td>0.0</td>\n",
       "      <td>2493.0</td>\n",
       "    </tr>\n",
       "    <tr>\n",
       "      <th>3</th>\n",
       "      <td>3</td>\n",
       "      <td>2566.0</td>\n",
       "      <td>0.0</td>\n",
       "    </tr>\n",
       "    <tr>\n",
       "      <th>4</th>\n",
       "      <td>4</td>\n",
       "      <td>2627.0</td>\n",
       "      <td>0.0</td>\n",
       "    </tr>\n",
       "    <tr>\n",
       "      <th>...</th>\n",
       "      <td>...</td>\n",
       "      <td>...</td>\n",
       "      <td>...</td>\n",
       "    </tr>\n",
       "    <tr>\n",
       "      <th>13437</th>\n",
       "      <td>13437</td>\n",
       "      <td>3202.0</td>\n",
       "      <td>0.0</td>\n",
       "    </tr>\n",
       "    <tr>\n",
       "      <th>13438</th>\n",
       "      <td>13438</td>\n",
       "      <td>0.0</td>\n",
       "      <td>3204.0</td>\n",
       "    </tr>\n",
       "    <tr>\n",
       "      <th>13439</th>\n",
       "      <td>13439</td>\n",
       "      <td>3207.0</td>\n",
       "      <td>0.0</td>\n",
       "    </tr>\n",
       "    <tr>\n",
       "      <th>13440</th>\n",
       "      <td>13440</td>\n",
       "      <td>0.0</td>\n",
       "      <td>3209.0</td>\n",
       "    </tr>\n",
       "    <tr>\n",
       "      <th>13441</th>\n",
       "      <td>13441</td>\n",
       "      <td>3212.0</td>\n",
       "      <td>0.0</td>\n",
       "    </tr>\n",
       "  </tbody>\n",
       "</table>\n",
       "<p>13442 rows × 3 columns</p>\n",
       "</div>"
      ],
      "text/plain": [
       "       index  white_elo  black_elo\n",
       "0          0     2500.0        0.0\n",
       "1          1        0.0     2558.0\n",
       "2          2        0.0     2493.0\n",
       "3          3     2566.0        0.0\n",
       "4          4     2627.0        0.0\n",
       "...      ...        ...        ...\n",
       "13437  13437     3202.0        0.0\n",
       "13438  13438        0.0     3204.0\n",
       "13439  13439     3207.0        0.0\n",
       "13440  13440        0.0     3209.0\n",
       "13441  13441     3212.0        0.0\n",
       "\n",
       "[13442 rows x 3 columns]"
      ]
     },
     "execution_count": 90,
     "metadata": {},
     "output_type": "execute_result"
    }
   ],
   "source": [
    "magnuselo = magnuswhiteelo.merge(magnusblackelo,how='outer',on='index',sort=True)\n",
    "magnuselo = magnuselo.fillna(0)\n",
    "magnuselo"
   ]
  },
  {
   "cell_type": "code",
   "execution_count": 95,
   "metadata": {},
   "outputs": [
    {
     "data": {
      "text/html": [
       "<div>\n",
       "<style scoped>\n",
       "    .dataframe tbody tr th:only-of-type {\n",
       "        vertical-align: middle;\n",
       "    }\n",
       "\n",
       "    .dataframe tbody tr th {\n",
       "        vertical-align: top;\n",
       "    }\n",
       "\n",
       "    .dataframe thead th {\n",
       "        text-align: right;\n",
       "    }\n",
       "</style>\n",
       "<table border=\"1\" class=\"dataframe\">\n",
       "  <thead>\n",
       "    <tr style=\"text-align: right;\">\n",
       "      <th></th>\n",
       "      <th>index</th>\n",
       "      <th>white_elo</th>\n",
       "      <th>black_elo</th>\n",
       "      <th>elo</th>\n",
       "    </tr>\n",
       "  </thead>\n",
       "  <tbody>\n",
       "    <tr>\n",
       "      <th>0</th>\n",
       "      <td>0</td>\n",
       "      <td>2500.0</td>\n",
       "      <td>0.0</td>\n",
       "      <td>2500.0</td>\n",
       "    </tr>\n",
       "    <tr>\n",
       "      <th>1</th>\n",
       "      <td>1</td>\n",
       "      <td>0.0</td>\n",
       "      <td>2558.0</td>\n",
       "      <td>2558.0</td>\n",
       "    </tr>\n",
       "    <tr>\n",
       "      <th>2</th>\n",
       "      <td>2</td>\n",
       "      <td>0.0</td>\n",
       "      <td>2493.0</td>\n",
       "      <td>2493.0</td>\n",
       "    </tr>\n",
       "    <tr>\n",
       "      <th>3</th>\n",
       "      <td>3</td>\n",
       "      <td>2566.0</td>\n",
       "      <td>0.0</td>\n",
       "      <td>2566.0</td>\n",
       "    </tr>\n",
       "    <tr>\n",
       "      <th>4</th>\n",
       "      <td>4</td>\n",
       "      <td>2627.0</td>\n",
       "      <td>0.0</td>\n",
       "      <td>2627.0</td>\n",
       "    </tr>\n",
       "    <tr>\n",
       "      <th>...</th>\n",
       "      <td>...</td>\n",
       "      <td>...</td>\n",
       "      <td>...</td>\n",
       "      <td>...</td>\n",
       "    </tr>\n",
       "    <tr>\n",
       "      <th>13437</th>\n",
       "      <td>13437</td>\n",
       "      <td>3202.0</td>\n",
       "      <td>0.0</td>\n",
       "      <td>3202.0</td>\n",
       "    </tr>\n",
       "    <tr>\n",
       "      <th>13438</th>\n",
       "      <td>13438</td>\n",
       "      <td>0.0</td>\n",
       "      <td>3204.0</td>\n",
       "      <td>3204.0</td>\n",
       "    </tr>\n",
       "    <tr>\n",
       "      <th>13439</th>\n",
       "      <td>13439</td>\n",
       "      <td>3207.0</td>\n",
       "      <td>0.0</td>\n",
       "      <td>3207.0</td>\n",
       "    </tr>\n",
       "    <tr>\n",
       "      <th>13440</th>\n",
       "      <td>13440</td>\n",
       "      <td>0.0</td>\n",
       "      <td>3209.0</td>\n",
       "      <td>3209.0</td>\n",
       "    </tr>\n",
       "    <tr>\n",
       "      <th>13441</th>\n",
       "      <td>13441</td>\n",
       "      <td>3212.0</td>\n",
       "      <td>0.0</td>\n",
       "      <td>3212.0</td>\n",
       "    </tr>\n",
       "  </tbody>\n",
       "</table>\n",
       "<p>13442 rows × 4 columns</p>\n",
       "</div>"
      ],
      "text/plain": [
       "       index  white_elo  black_elo     elo\n",
       "0          0     2500.0        0.0  2500.0\n",
       "1          1        0.0     2558.0  2558.0\n",
       "2          2        0.0     2493.0  2493.0\n",
       "3          3     2566.0        0.0  2566.0\n",
       "4          4     2627.0        0.0  2627.0\n",
       "...      ...        ...        ...     ...\n",
       "13437  13437     3202.0        0.0  3202.0\n",
       "13438  13438        0.0     3204.0  3204.0\n",
       "13439  13439     3207.0        0.0  3207.0\n",
       "13440  13440        0.0     3209.0  3209.0\n",
       "13441  13441     3212.0        0.0  3212.0\n",
       "\n",
       "[13442 rows x 4 columns]"
      ]
     },
     "execution_count": 95,
     "metadata": {},
     "output_type": "execute_result"
    }
   ],
   "source": [
    "magnuselo['elo']= magnuselo.apply(lambda row: mergeelo(row),axis=1)\n",
    "magnuselo"
   ]
  },
  {
   "cell_type": "code",
   "execution_count": 114,
   "metadata": {},
   "outputs": [
    {
     "data": {
      "text/html": [
       "<div>\n",
       "<style scoped>\n",
       "    .dataframe tbody tr th:only-of-type {\n",
       "        vertical-align: middle;\n",
       "    }\n",
       "\n",
       "    .dataframe tbody tr th {\n",
       "        vertical-align: top;\n",
       "    }\n",
       "\n",
       "    .dataframe thead th {\n",
       "        text-align: right;\n",
       "    }\n",
       "</style>\n",
       "<table border=\"1\" class=\"dataframe\">\n",
       "  <thead>\n",
       "    <tr style=\"text-align: right;\">\n",
       "      <th></th>\n",
       "      <th>index</th>\n",
       "      <th>white_elo</th>\n",
       "      <th>black_elo</th>\n",
       "      <th>elo</th>\n",
       "    </tr>\n",
       "  </thead>\n",
       "  <tbody>\n",
       "    <tr>\n",
       "      <th>0</th>\n",
       "      <td>0</td>\n",
       "      <td>0.0</td>\n",
       "      <td>2532.0</td>\n",
       "      <td>2532.0</td>\n",
       "    </tr>\n",
       "    <tr>\n",
       "      <th>1</th>\n",
       "      <td>1</td>\n",
       "      <td>2420.0</td>\n",
       "      <td>0.0</td>\n",
       "      <td>2420.0</td>\n",
       "    </tr>\n",
       "    <tr>\n",
       "      <th>2</th>\n",
       "      <td>2</td>\n",
       "      <td>2754.0</td>\n",
       "      <td>0.0</td>\n",
       "      <td>2754.0</td>\n",
       "    </tr>\n",
       "    <tr>\n",
       "      <th>3</th>\n",
       "      <td>3</td>\n",
       "      <td>0.0</td>\n",
       "      <td>2755.0</td>\n",
       "      <td>2755.0</td>\n",
       "    </tr>\n",
       "    <tr>\n",
       "      <th>4</th>\n",
       "      <td>4</td>\n",
       "      <td>0.0</td>\n",
       "      <td>2275.0</td>\n",
       "      <td>2275.0</td>\n",
       "    </tr>\n",
       "    <tr>\n",
       "      <th>...</th>\n",
       "      <td>...</td>\n",
       "      <td>...</td>\n",
       "      <td>...</td>\n",
       "      <td>...</td>\n",
       "    </tr>\n",
       "    <tr>\n",
       "      <th>13437</th>\n",
       "      <td>13437</td>\n",
       "      <td>0.0</td>\n",
       "      <td>2984.0</td>\n",
       "      <td>2984.0</td>\n",
       "    </tr>\n",
       "    <tr>\n",
       "      <th>13438</th>\n",
       "      <td>13438</td>\n",
       "      <td>2982.0</td>\n",
       "      <td>0.0</td>\n",
       "      <td>2982.0</td>\n",
       "    </tr>\n",
       "    <tr>\n",
       "      <th>13439</th>\n",
       "      <td>13439</td>\n",
       "      <td>0.0</td>\n",
       "      <td>2979.0</td>\n",
       "      <td>2979.0</td>\n",
       "    </tr>\n",
       "    <tr>\n",
       "      <th>13440</th>\n",
       "      <td>13440</td>\n",
       "      <td>2977.0</td>\n",
       "      <td>0.0</td>\n",
       "      <td>2977.0</td>\n",
       "    </tr>\n",
       "    <tr>\n",
       "      <th>13441</th>\n",
       "      <td>13441</td>\n",
       "      <td>0.0</td>\n",
       "      <td>2974.0</td>\n",
       "      <td>2974.0</td>\n",
       "    </tr>\n",
       "  </tbody>\n",
       "</table>\n",
       "<p>13442 rows × 4 columns</p>\n",
       "</div>"
      ],
      "text/plain": [
       "       index  white_elo  black_elo     elo\n",
       "0          0        0.0     2532.0  2532.0\n",
       "1          1     2420.0        0.0  2420.0\n",
       "2          2     2754.0        0.0  2754.0\n",
       "3          3        0.0     2755.0  2755.0\n",
       "4          4        0.0     2275.0  2275.0\n",
       "...      ...        ...        ...     ...\n",
       "13437  13437        0.0     2984.0  2984.0\n",
       "13438  13438     2982.0        0.0  2982.0\n",
       "13439  13439        0.0     2979.0  2979.0\n",
       "13440  13440     2977.0        0.0  2977.0\n",
       "13441  13441        0.0     2974.0  2974.0\n",
       "\n",
       "[13442 rows x 4 columns]"
      ]
     },
     "execution_count": 114,
     "metadata": {},
     "output_type": "execute_result"
    }
   ],
   "source": [
    "opponentwhiteelo = cg.loc[(cg.white!='Magnus Carlsen'),['white_elo']]\n",
    "opponentwhiteelo.reset_index(inplace=True)\n",
    "opponentblackelo = cg.loc[(cg.black!='Magnus Carlsen'),['black_elo']]\n",
    "opponentblackelo.reset_index(inplace=True)\n",
    "opponentelo = opponentwhiteelo.merge(opponentblackelo,how='outer',on='index',sort=True)\n",
    "opponentelo = opponentelo.fillna(0)\n",
    "opponentelo['elo']= opponentelo.apply(lambda row: mergeelo(row),axis=1)\n",
    "opponentelo"
   ]
  },
  {
   "cell_type": "code",
   "execution_count": 121,
   "metadata": {},
   "outputs": [
    {
     "data": {
      "text/plain": [
       "3269.0"
      ]
     },
     "execution_count": 121,
     "metadata": {},
     "output_type": "execute_result"
    }
   ],
   "source": [
    "max(opponentelo.elo)"
   ]
  },
  {
   "cell_type": "code",
   "execution_count": 126,
   "metadata": {},
   "outputs": [
    {
     "data": {
      "text/plain": [
       "[2000,\n",
       " 2100,\n",
       " 2200,\n",
       " 2300,\n",
       " 2400,\n",
       " 2500,\n",
       " 2600,\n",
       " 2700,\n",
       " 2800,\n",
       " 2900,\n",
       " 3000,\n",
       " 3100,\n",
       " 3200,\n",
       " 3300]"
      ]
     },
     "execution_count": 126,
     "metadata": {},
     "output_type": "execute_result"
    }
   ],
   "source": [
    "[x for x in range(2000,3301,100)]"
   ]
  },
  {
   "cell_type": "code",
   "execution_count": 128,
   "metadata": {},
   "outputs": [
    {
     "data": {
      "text/plain": [
       "(array([  75.,  121.,  194.,  198.,  257.,  370.,  622., 1612., 2202.,\n",
       "        2488., 3201., 1518.,  280.]),\n",
       " array([2000, 2100, 2200, 2300, 2400, 2500, 2600, 2700, 2800, 2900, 3000,\n",
       "        3100, 3200, 3300]),\n",
       " <BarContainer object of 13 artists>)"
      ]
     },
     "execution_count": 128,
     "metadata": {},
     "output_type": "execute_result"
    },
    {
     "data": {
      "image/png": "[encoded data removed]",
      "text/plain": [
       "<Figure size 460.8x345.6 with 1 Axes>"
      ]
     },
     "metadata": {
      "needs_background": "light"
     },
     "output_type": "display_data"
    }
   ],
   "source": [
    "plt.hist(opponentelo.elo,bins=[x for x in range(2000,3301,100)])"
   ]
  },
  {
   "cell_type": "code",
   "execution_count": 130,
   "metadata": {},
   "outputs": [
    {
     "data": {
      "text/plain": [
       "(array([2141., 1612., 2202., 2488., 3201., 1798.]),\n",
       " array([   0, 2700, 2800, 2900, 3000, 3100, 3300]),\n",
       " <BarContainer object of 6 artists>)"
      ]
     },
     "execution_count": 130,
     "metadata": {},
     "output_type": "execute_result"
    },
    {
     "data": {
      "image/png": "[encoded data removed]",
      "text/plain": [
       "<Figure size 460.8x345.6 with 1 Axes>"
      ]
     },
     "metadata": {
      "needs_background": "light"
     },
     "output_type": "display_data"
    }
   ],
   "source": [
    "plt.hist(opponentelo.elo,bins=[0,2700,2800,2900,3000,3100,3300])"
   ]
  },
  {
   "cell_type": "code",
   "execution_count": 131,
   "metadata": {},
   "outputs": [
    {
     "data": {
      "text/plain": [
       "<BarContainer object of 6 artists>"
      ]
     },
     "execution_count": 131,
     "metadata": {},
     "output_type": "execute_result"
    },
    {
     "data": {
      "image/png": "[encoded data removed]",
      "text/plain": [
       "<Figure size 460.8x345.6 with 1 Axes>"
      ]
     },
     "metadata": {
      "needs_background": "light"
     },
     "output_type": "display_data"
    }
   ],
   "source": [
    "x = ['<2700','2700-2800','2800-2900','2900-3000','3000-3100','3100<']\n",
    "y = [2141, 1612, 2202, 2488, 3201, 1798]\n",
    "plt.bar(x,y)"
   ]
  },
  {
   "cell_type": "code",
   "execution_count": 135,
   "metadata": {},
   "outputs": [
    {
     "data": {
      "text/html": [
       "<div>\n",
       "<style scoped>\n",
       "    .dataframe tbody tr th:only-of-type {\n",
       "        vertical-align: middle;\n",
       "    }\n",
       "\n",
       "    .dataframe tbody tr th {\n",
       "        vertical-align: top;\n",
       "    }\n",
       "\n",
       "    .dataframe thead th {\n",
       "        text-align: right;\n",
       "    }\n",
       "</style>\n",
       "<table border=\"1\" class=\"dataframe\">\n",
       "  <thead>\n",
       "    <tr style=\"text-align: right;\">\n",
       "      <th></th>\n",
       "      <th>elo</th>\n",
       "      <th>magnus_result</th>\n",
       "    </tr>\n",
       "  </thead>\n",
       "  <tbody>\n",
       "    <tr>\n",
       "      <th>0</th>\n",
       "      <td>2532.0</td>\n",
       "      <td>lost</td>\n",
       "    </tr>\n",
       "    <tr>\n",
       "      <th>1</th>\n",
       "      <td>2420.0</td>\n",
       "      <td>lost</td>\n",
       "    </tr>\n",
       "    <tr>\n",
       "      <th>2</th>\n",
       "      <td>2754.0</td>\n",
       "      <td>lost</td>\n",
       "    </tr>\n",
       "    <tr>\n",
       "      <th>3</th>\n",
       "      <td>2755.0</td>\n",
       "      <td>lost</td>\n",
       "    </tr>\n",
       "    <tr>\n",
       "      <th>4</th>\n",
       "      <td>2275.0</td>\n",
       "      <td>lost</td>\n",
       "    </tr>\n",
       "    <tr>\n",
       "      <th>...</th>\n",
       "      <td>...</td>\n",
       "      <td>...</td>\n",
       "    </tr>\n",
       "    <tr>\n",
       "      <th>13437</th>\n",
       "      <td>2984.0</td>\n",
       "      <td>won</td>\n",
       "    </tr>\n",
       "    <tr>\n",
       "      <th>13438</th>\n",
       "      <td>2982.0</td>\n",
       "      <td>won</td>\n",
       "    </tr>\n",
       "    <tr>\n",
       "      <th>13439</th>\n",
       "      <td>2979.0</td>\n",
       "      <td>won</td>\n",
       "    </tr>\n",
       "    <tr>\n",
       "      <th>13440</th>\n",
       "      <td>2977.0</td>\n",
       "      <td>won</td>\n",
       "    </tr>\n",
       "    <tr>\n",
       "      <th>13441</th>\n",
       "      <td>2974.0</td>\n",
       "      <td>won</td>\n",
       "    </tr>\n",
       "  </tbody>\n",
       "</table>\n",
       "<p>13442 rows × 2 columns</p>\n",
       "</div>"
      ],
      "text/plain": [
       "          elo magnus_result\n",
       "0      2532.0          lost\n",
       "1      2420.0          lost\n",
       "2      2754.0          lost\n",
       "3      2755.0          lost\n",
       "4      2275.0          lost\n",
       "...       ...           ...\n",
       "13437  2984.0           won\n",
       "13438  2982.0           won\n",
       "13439  2979.0           won\n",
       "13440  2977.0           won\n",
       "13441  2974.0           won\n",
       "\n",
       "[13442 rows x 2 columns]"
      ]
     },
     "execution_count": 135,
     "metadata": {},
     "output_type": "execute_result"
    }
   ],
   "source": [
    "oppres = pd.DataFrame(data=(opponentelo.elo,cg.magnus_result)).T\n",
    "oppres"
   ]
  },
  {
   "cell_type": "code",
   "execution_count": 96,
   "metadata": {},
   "outputs": [
    {
     "data": {
      "text/plain": [
       "[<matplotlib.lines.Line2D at 0x2a3232f4f10>]"
      ]
     },
     "execution_count": 96,
     "metadata": {},
     "output_type": "execute_result"
    },
    {
     "data": {
      "image/png": "[encoded data removed]",
      "text/plain": [
       "<Figure size 432x288 with 1 Axes>"
      ]
     },
     "metadata": {
      "needs_background": "light"
     },
     "output_type": "display_data"
    }
   ],
   "source": [
    "plt.plot(magnuselo.index,magnuselo.elo)\n",
    "# new accounts start at 1500"
   ]
  },
  {
   "cell_type": "code",
   "execution_count": 117,
   "metadata": {},
   "outputs": [
    {
     "data": {
      "image/png": "[encoded data removed]",
      "text/plain": [
       "<Figure size 460.8x345.6 with 1 Axes>"
      ]
     },
     "metadata": {
      "needs_background": "light"
     },
     "output_type": "display_data"
    }
   ],
   "source": [
    "plt.plot(magnuselo.index[magnuselo.elo>3000],magnuselo.elo[magnuselo.elo>3000])\n",
    "plt.rcParams[\"figure.figsize\"] = (6.4, 4.8)\n",
    "plt.show()\n",
    "# The rating abruptly changes when Magnus's account or time control changes.\n",
    "# It's hard to tell when Magnus is climbing to a certain rating from a new account vs when his rating represents his actual strength\n",
    "# Either way, this plot is not useful since it's not continuous and it's near impossible to figure out which points to connect, if any."
   ]
  },
  {
   "cell_type": "code",
   "execution_count": null,
   "metadata": {},
   "outputs": [],
   "source": [
    "cg.magnus_result.value_counts()"
   ]
  },
  {
   "cell_type": "code",
   "execution_count": 24,
   "metadata": {},
   "outputs": [],
   "source": [
    "# Converts a number of wins, losses, and ties to a win percentage\n",
    "def winpercentage(arr):\n",
    "    return (arr[0] + arr[2]*0.5)/sum(arr)"
   ]
  },
  {
   "cell_type": "code",
   "execution_count": 27,
   "metadata": {},
   "outputs": [
    {
     "name": "stdout",
     "output_type": "stream",
     "text": [
      "Overall win percentage:  0.7188662401428358\n",
      "Black win percentage:  0.6903731343283582\n",
      "White win percentage:  0.7471818451498072\n"
     ]
    }
   ],
   "source": [
    "print('Overall win percentage: ',winpercentage(cg.magnus_result.value_counts()))\n",
    "print('Black win percentage: ',winpercentage(cg[cg.black=='Magnus Carlsen'].magnus_result.value_counts()))\n",
    "print('White win percentage: ',winpercentage(cg[cg.white=='Magnus Carlsen'].magnus_result.value_counts()))\n",
    "# Significant 5% difference between black and white"
   ]
  },
  {
   "cell_type": "code",
   "execution_count": 56,
   "metadata": {},
   "outputs": [
    {
     "data": {
      "image/png": "[encoded data removed]",
      "text/plain": [
       "<Figure size 432x288 with 1 Axes>"
      ]
     },
     "metadata": {
      "needs_background": "light"
     },
     "output_type": "display_data"
    }
   ],
   "source": [
    "x = ['Overall','White','Black']\n",
    "y = [winpercentage(cg.magnus_result.value_counts()),winpercentage(cg[cg.white=='Magnus Carlsen'].magnus_result.value_counts()),winpercentage(cg[cg.black=='Magnus Carlsen'].magnus_result.value_counts())]\n",
    "plt.bar(x,y)\n",
    "plt.title('Win Percentage by Color')\n",
    "plt.xlabel('Color')\n",
    "plt.ylabel('Percentage')\n",
    "for index, value in enumerate(y):\n",
    "    plt.text(index, value,\n",
    "             str(round(value,3)))\n",
    "plt.show()"
   ]
  },
  {
   "cell_type": "code",
   "execution_count": 54,
   "metadata": {},
   "outputs": [
    {
     "data": {
      "image/png": "[encoded data removed]",
      "text/plain": [
       "<Figure size 432x288 with 1 Axes>"
      ]
     },
     "metadata": {
      "needs_background": "light"
     },
     "output_type": "display_data"
    }
   ],
   "source": [
    "x = ['Overall','2018','2019','2020','2021']\n",
    "y = [winpercentage(cg.magnus_result.value_counts()),winpercentage(cg[cg.utc_date.str[0:4]=='2018'].magnus_result.value_counts()),winpercentage(cg[cg.utc_date.str[0:4]=='2019'].magnus_result.value_counts()),winpercentage(cg[cg.utc_date.str[0:4]=='2020'].magnus_result.value_counts()),winpercentage(cg[cg.utc_date.str[0:4]=='2021'].magnus_result.value_counts())]\n",
    "plt.bar(x,y)\n",
    "plt.title('Win Percentage by Year')\n",
    "plt.xlabel('Year')\n",
    "plt.ylabel('Percentage')\n",
    "for index, value in enumerate(y):\n",
    "    plt.text(index, value,\n",
    "             str(round(value,3)))\n",
    "plt.show()"
   ]
  },
  {
   "cell_type": "code",
   "execution_count": 57,
   "metadata": {},
   "outputs": [
    {
     "data": {
      "image/png": "[encoded data removed]",
      "text/plain": [
       "<Figure size 432x288 with 1 Axes>"
      ]
     },
     "metadata": {
      "needs_background": "light"
     },
     "output_type": "display_data"
    }
   ],
   "source": [
    "# 85% of games are 60+0, 6% of games are 180+0 and other time controls are even lower, will change or remove\n",
    "x = ['Overall','60+0','Not 60+0']\n",
    "y = [winpercentage(cg.magnus_result.value_counts()),winpercentage(cg[cg.time_control=='60+0'].magnus_result.value_counts()),winpercentage(cg[cg.time_control!='60+0'].magnus_result.value_counts())]\n",
    "plt.bar(x,y)\n",
    "plt.title('Win Percentage by Time Control')\n",
    "plt.xlabel('Time Control')\n",
    "plt.ylabel('Percentage')\n",
    "for index, value in enumerate(y):\n",
    "    plt.text(index, value,\n",
    "             str(round(value,3)))\n",
    "plt.show()"
   ]
  },
  {
   "cell_type": "code",
   "execution_count": 113,
   "metadata": {},
   "outputs": [
    {
     "data": {
      "image/png": "[encoded data removed]",
      "text/plain": [
       "<Figure size 1440x216 with 1 Axes>"
      ]
     },
     "metadata": {
      "needs_background": "light"
     },
     "output_type": "display_data"
    }
   ],
   "source": [
    "# I think first move might be better but this is a test\n",
    "x = ['Overall','A00','B01','B06','A04','A01']\n",
    "y = [winpercentage(cg.magnus_result.value_counts()),winpercentage(cg[cg.eco=='A00'].magnus_result.value_counts()),winpercentage(cg[cg.eco=='B01'].magnus_result.value_counts()),winpercentage(cg[cg.eco=='B06'].magnus_result.value_counts()),winpercentage(cg[cg.eco=='A04'].magnus_result.value_counts()),winpercentage(cg[cg.eco=='A01'].magnus_result.value_counts())]\n",
    "plt.bar(x,y)\n",
    "plt.title('Win Percentage by Opening')\n",
    "plt.xlabel('Opening ECO Code')\n",
    "plt.ylabel('Percentage')\n",
    "for index, value in enumerate(y):\n",
    "    plt.text(index, value,\n",
    "             str(round(value,3)))\n",
    "plt.show()"
   ]
  },
  {
   "cell_type": "code",
   "execution_count": 141,
   "metadata": {},
   "outputs": [
    {
     "data": {
      "image/png": "[encoded data removed]",
      "text/plain": [
       "<Figure size 460.8x345.6 with 1 Axes>"
      ]
     },
     "metadata": {
      "needs_background": "light"
     },
     "output_type": "display_data"
    }
   ],
   "source": [
    "# x = ['<2700','2700-2800','2800-2900','2900-3000','3000-3100','3100<']\n",
    "# y = [2141, 1612, 2202, 2488, 3201, 1798]\n",
    "# uses oppres.elo and oppres.magnus_result\n",
    "x = ['Overall','<2700','2700s','2800s','2900s','3000s','3100<'] # Less characters\n",
    "y = [winpercentage(cg.magnus_result.value_counts()),winpercentage(oppres[oppres.elo<2700].magnus_result.value_counts()),winpercentage(oppres[(oppres.elo<2800) &(oppres.elo>=2700)].magnus_result.value_counts()),winpercentage(oppres[(oppres.elo<2900) &(oppres.elo>=2800)].magnus_result.value_counts()),winpercentage(oppres[(oppres.elo<3000) &(oppres.elo>=2900)].magnus_result.value_counts()),winpercentage(oppres[(oppres.elo<3100) &(oppres.elo>=3000)].magnus_result.value_counts()),winpercentage(oppres[(oppres.elo>=3100)].magnus_result.value_counts())]\n",
    "plt.bar(x,y)\n",
    "plt.title('Win Percentage by Opponent Rating')\n",
    "plt.xlabel('Opponent Rating')\n",
    "plt.ylabel('Percentage')\n",
    "for index, value in enumerate(y):\n",
    "    plt.text(index, value,\n",
    "             str(round(value,3)))\n",
    "plt.show()"
   ]
  },
  {
   "cell_type": "code",
   "execution_count": 12,
   "metadata": {},
   "outputs": [
    {
     "data": {
      "text/plain": [
       "[<matplotlib.lines.Line2D at 0x2a31f884e50>]"
      ]
     },
     "execution_count": 12,
     "metadata": {},
     "output_type": "execute_result"
    },
    {
     "data": {
      "image/png": "[encoded data removed]",
      "text/plain": [
       "<Figure size 432x288 with 1 Axes>"
      ]
     },
     "metadata": {
      "needs_background": "light"
     },
     "output_type": "display_data"
    }
   ],
   "source": [
    "plt.plot(cg.utc_date,cg.index)"
   ]
  },
  {
   "cell_type": "code",
   "execution_count": null,
   "metadata": {},
   "outputs": [],
   "source": []
  }
 ],
 "metadata": {
  "interpreter": {
   "hash": "ab2e56e5a4f24cad0c49aa93a4628968ee20258e7f82f5186e5fd37b3b8c369f"
  },
  "kernelspec": {
   "display_name": "Python 3.9.7 64-bit",
   "language": "python",
   "name": "python3"
  },
  "language_info": {
   "codemirror_mode": {
    "name": "ipython",
    "version": 3
   },
   "file_extension": ".py",
   "mimetype": "text/x-python",
   "name": "python",
   "nbconvert_exporter": "python",
   "pygments_lexer": "ipython3",
   "version": "3.9.7"
  },
  "orig_nbformat": 4
 },
 "nbformat": 4,
 "nbformat_minor": 2
}
